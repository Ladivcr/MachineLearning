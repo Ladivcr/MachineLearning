{
  "nbformat": 4,
  "nbformat_minor": 0,
  "metadata": {
    "colab": {
      "name": "JVCR_PandasSeaborn.ipynb",
      "provenance": [],
      "collapsed_sections": []
    },
    "kernelspec": {
      "name": "python3",
      "display_name": "Python 3"
    }
  },
  "cells": [
    {
      "cell_type": "markdown",
      "metadata": {
        "id": "0eIm34ZI2Psq"
      },
      "source": [
        "# Librerias"
      ]
    },
    {
      "cell_type": "code",
      "metadata": {
        "id": "w1HIuPskzVaY"
      },
      "source": [
        "import numpy as np\n",
        "import pandas as pd\n",
        "import matplotlib.pyplot as plt\n",
        "import seaborn as sns"
      ],
      "execution_count": null,
      "outputs": []
    },
    {
      "cell_type": "markdown",
      "metadata": {
        "id": "CgSR5JUVQdb1"
      },
      "source": [
        "# Exploración con Pandas"
      ]
    },
    {
      "cell_type": "code",
      "metadata": {
        "id": "9lOY0-Y62O5V"
      },
      "source": [
        "my_data = pd.DataFrame(pd.read_csv(\"/content/datosGringosEscolaridad.csv\"))"
      ],
      "execution_count": null,
      "outputs": []
    },
    {
      "cell_type": "markdown",
      "metadata": {
        "id": "L4sijfUm7HYr"
      },
      "source": [
        "## Sobre los datos \n",
        " - **Year:** el año representado por los datos.\n",
        "\n",
        "- **Sex:** sexo de los estudiantes mostrados en la fila; \n",
        "> F para mujeres(female);\n",
        "> M para hombres (male); \n",
        "> A para todos (all).\n",
        " \n",
        "- **Min degree:** el grado representado por la fila.\n",
        "\n",
        "- **Total:** el porcentaje total de estudiantes del género especificados que alcanzaron al menos el míínimo nivel de educación en ese año\n",
        " \n",
        " **White/Black/.../Two or more races:** Porcentaje de estudiantes con esa\n",
        "etnicidad y el género especificado que alcanzaron el míínimo nivel de educación en ese año."
      ]
    },
    {
      "cell_type": "code",
      "metadata": {
        "colab": {
          "base_uri": "https://localhost:8080/",
          "height": 363
        },
        "id": "bhaa1aG16yLT",
        "outputId": "46804830-69ad-4c1c-82b6-699387001778"
      },
      "source": [
        "my_data.head(10)"
      ],
      "execution_count": null,
      "outputs": [
        {
          "output_type": "execute_result",
          "data": {
            "text/html": [
              "<div>\n",
              "<style scoped>\n",
              "    .dataframe tbody tr th:only-of-type {\n",
              "        vertical-align: middle;\n",
              "    }\n",
              "\n",
              "    .dataframe tbody tr th {\n",
              "        vertical-align: top;\n",
              "    }\n",
              "\n",
              "    .dataframe thead th {\n",
              "        text-align: right;\n",
              "    }\n",
              "</style>\n",
              "<table border=\"1\" class=\"dataframe\">\n",
              "  <thead>\n",
              "    <tr style=\"text-align: right;\">\n",
              "      <th></th>\n",
              "      <th>Year</th>\n",
              "      <th>Sex</th>\n",
              "      <th>Min degree</th>\n",
              "      <th>Total</th>\n",
              "      <th>White</th>\n",
              "      <th>Black</th>\n",
              "      <th>Hispanic</th>\n",
              "      <th>Asian</th>\n",
              "      <th>Pacific Islander</th>\n",
              "      <th>American Indian/Alaska Native</th>\n",
              "      <th>Two or more races</th>\n",
              "    </tr>\n",
              "  </thead>\n",
              "  <tbody>\n",
              "    <tr>\n",
              "      <th>0</th>\n",
              "      <td>1920</td>\n",
              "      <td>A</td>\n",
              "      <td>high school</td>\n",
              "      <td>---</td>\n",
              "      <td>22.0</td>\n",
              "      <td>6.3</td>\n",
              "      <td>---</td>\n",
              "      <td>---</td>\n",
              "      <td>---</td>\n",
              "      <td>---</td>\n",
              "      <td>---</td>\n",
              "    </tr>\n",
              "    <tr>\n",
              "      <th>1</th>\n",
              "      <td>1940</td>\n",
              "      <td>A</td>\n",
              "      <td>high school</td>\n",
              "      <td>38.1</td>\n",
              "      <td>41.2</td>\n",
              "      <td>12.3</td>\n",
              "      <td>---</td>\n",
              "      <td>---</td>\n",
              "      <td>---</td>\n",
              "      <td>---</td>\n",
              "      <td>---</td>\n",
              "    </tr>\n",
              "    <tr>\n",
              "      <th>2</th>\n",
              "      <td>1950</td>\n",
              "      <td>A</td>\n",
              "      <td>high school</td>\n",
              "      <td>52.8</td>\n",
              "      <td>56.3</td>\n",
              "      <td>23.6</td>\n",
              "      <td>---</td>\n",
              "      <td>---</td>\n",
              "      <td>---</td>\n",
              "      <td>---</td>\n",
              "      <td>---</td>\n",
              "    </tr>\n",
              "    <tr>\n",
              "      <th>3</th>\n",
              "      <td>1960</td>\n",
              "      <td>A</td>\n",
              "      <td>high school</td>\n",
              "      <td>60.7</td>\n",
              "      <td>63.7</td>\n",
              "      <td>38.6</td>\n",
              "      <td>---</td>\n",
              "      <td>---</td>\n",
              "      <td>---</td>\n",
              "      <td>---</td>\n",
              "      <td>---</td>\n",
              "    </tr>\n",
              "    <tr>\n",
              "      <th>4</th>\n",
              "      <td>1970</td>\n",
              "      <td>A</td>\n",
              "      <td>high school</td>\n",
              "      <td>75.4</td>\n",
              "      <td>77.8</td>\n",
              "      <td>58.4</td>\n",
              "      <td>---</td>\n",
              "      <td>---</td>\n",
              "      <td>---</td>\n",
              "      <td>---</td>\n",
              "      <td>---</td>\n",
              "    </tr>\n",
              "    <tr>\n",
              "      <th>5</th>\n",
              "      <td>1980</td>\n",
              "      <td>A</td>\n",
              "      <td>high school</td>\n",
              "      <td>85.4</td>\n",
              "      <td>89.2</td>\n",
              "      <td>76.7</td>\n",
              "      <td>58.0</td>\n",
              "      <td>---</td>\n",
              "      <td>---</td>\n",
              "      <td>---</td>\n",
              "      <td>---</td>\n",
              "    </tr>\n",
              "    <tr>\n",
              "      <th>6</th>\n",
              "      <td>1990</td>\n",
              "      <td>A</td>\n",
              "      <td>high school</td>\n",
              "      <td>85.7</td>\n",
              "      <td>90.1</td>\n",
              "      <td>81.7</td>\n",
              "      <td>58.2</td>\n",
              "      <td>---</td>\n",
              "      <td>---</td>\n",
              "      <td>---</td>\n",
              "      <td>---</td>\n",
              "    </tr>\n",
              "    <tr>\n",
              "      <th>7</th>\n",
              "      <td>1995</td>\n",
              "      <td>A</td>\n",
              "      <td>high school</td>\n",
              "      <td>86.8</td>\n",
              "      <td>92.5</td>\n",
              "      <td>86.7</td>\n",
              "      <td>57.1</td>\n",
              "      <td>---</td>\n",
              "      <td>---</td>\n",
              "      <td>81.5</td>\n",
              "      <td>---</td>\n",
              "    </tr>\n",
              "    <tr>\n",
              "      <th>8</th>\n",
              "      <td>2000</td>\n",
              "      <td>A</td>\n",
              "      <td>high school</td>\n",
              "      <td>88.1</td>\n",
              "      <td>94.0</td>\n",
              "      <td>86.8</td>\n",
              "      <td>62.8</td>\n",
              "      <td>---</td>\n",
              "      <td>---</td>\n",
              "      <td>79.2</td>\n",
              "      <td>---</td>\n",
              "    </tr>\n",
              "    <tr>\n",
              "      <th>9</th>\n",
              "      <td>2005</td>\n",
              "      <td>A</td>\n",
              "      <td>high school</td>\n",
              "      <td>86.2</td>\n",
              "      <td>92.8</td>\n",
              "      <td>87.0</td>\n",
              "      <td>63.3</td>\n",
              "      <td>95.5</td>\n",
              "      <td>99.5</td>\n",
              "      <td>80.2</td>\n",
              "      <td>91.4</td>\n",
              "    </tr>\n",
              "  </tbody>\n",
              "</table>\n",
              "</div>"
            ],
            "text/plain": [
              "   Year Sex  ... American Indian/Alaska Native Two or more races\n",
              "0  1920   A  ...                           ---               ---\n",
              "1  1940   A  ...                           ---               ---\n",
              "2  1950   A  ...                           ---               ---\n",
              "3  1960   A  ...                           ---               ---\n",
              "4  1970   A  ...                           ---               ---\n",
              "5  1980   A  ...                           ---               ---\n",
              "6  1990   A  ...                           ---               ---\n",
              "7  1995   A  ...                          81.5               ---\n",
              "8  2000   A  ...                          79.2               ---\n",
              "9  2005   A  ...                          80.2              91.4\n",
              "\n",
              "[10 rows x 11 columns]"
            ]
          },
          "metadata": {
            "tags": []
          },
          "execution_count": 11
        }
      ]
    },
    {
      "cell_type": "markdown",
      "metadata": {
        "id": "Xfpmbeu-9r6E"
      },
      "source": [
        "1. Descarga el archivo datosGringosEscolaridad.csv y cárgalo en pandas. El archivo utiliza el síímbolo ’---’ para los valores faltantes. Consulta la documentacióón de la función read csv y revísala con morbo; para este inciso pon atención especial en el paráámetro na_values para manejar apropiadamente el conjunto de datos.\n",
        "\n",
        "> Observamos que nuestros valores nulos en este caso están representados por tres líneas (---), hemos de especificarlo a la hora de cargar los datos haciendo uso de *na_values*."
      ]
    },
    {
      "cell_type": "code",
      "metadata": {
        "id": "w0hOr2FO654F"
      },
      "source": [
        "Dschool = pd.DataFrame(pd.read_csv(\"/content/datosGringosEscolaridad.csv\", na_values = \"---\"))"
      ],
      "execution_count": null,
      "outputs": []
    },
    {
      "cell_type": "code",
      "metadata": {
        "colab": {
          "base_uri": "https://localhost:8080/",
          "height": 363
        },
        "id": "rl2WqSzw_Rvq",
        "outputId": "15305d64-9bea-49e8-feef-033b43182b6f"
      },
      "source": [
        "Dschool.head(10)"
      ],
      "execution_count": null,
      "outputs": [
        {
          "output_type": "execute_result",
          "data": {
            "text/html": [
              "<div>\n",
              "<style scoped>\n",
              "    .dataframe tbody tr th:only-of-type {\n",
              "        vertical-align: middle;\n",
              "    }\n",
              "\n",
              "    .dataframe tbody tr th {\n",
              "        vertical-align: top;\n",
              "    }\n",
              "\n",
              "    .dataframe thead th {\n",
              "        text-align: right;\n",
              "    }\n",
              "</style>\n",
              "<table border=\"1\" class=\"dataframe\">\n",
              "  <thead>\n",
              "    <tr style=\"text-align: right;\">\n",
              "      <th></th>\n",
              "      <th>Year</th>\n",
              "      <th>Sex</th>\n",
              "      <th>Min degree</th>\n",
              "      <th>Total</th>\n",
              "      <th>White</th>\n",
              "      <th>Black</th>\n",
              "      <th>Hispanic</th>\n",
              "      <th>Asian</th>\n",
              "      <th>Pacific Islander</th>\n",
              "      <th>American Indian/Alaska Native</th>\n",
              "      <th>Two or more races</th>\n",
              "    </tr>\n",
              "  </thead>\n",
              "  <tbody>\n",
              "    <tr>\n",
              "      <th>0</th>\n",
              "      <td>1920</td>\n",
              "      <td>A</td>\n",
              "      <td>high school</td>\n",
              "      <td>NaN</td>\n",
              "      <td>22.0</td>\n",
              "      <td>6.3</td>\n",
              "      <td>NaN</td>\n",
              "      <td>NaN</td>\n",
              "      <td>NaN</td>\n",
              "      <td>NaN</td>\n",
              "      <td>NaN</td>\n",
              "    </tr>\n",
              "    <tr>\n",
              "      <th>1</th>\n",
              "      <td>1940</td>\n",
              "      <td>A</td>\n",
              "      <td>high school</td>\n",
              "      <td>38.1</td>\n",
              "      <td>41.2</td>\n",
              "      <td>12.3</td>\n",
              "      <td>NaN</td>\n",
              "      <td>NaN</td>\n",
              "      <td>NaN</td>\n",
              "      <td>NaN</td>\n",
              "      <td>NaN</td>\n",
              "    </tr>\n",
              "    <tr>\n",
              "      <th>2</th>\n",
              "      <td>1950</td>\n",
              "      <td>A</td>\n",
              "      <td>high school</td>\n",
              "      <td>52.8</td>\n",
              "      <td>56.3</td>\n",
              "      <td>23.6</td>\n",
              "      <td>NaN</td>\n",
              "      <td>NaN</td>\n",
              "      <td>NaN</td>\n",
              "      <td>NaN</td>\n",
              "      <td>NaN</td>\n",
              "    </tr>\n",
              "    <tr>\n",
              "      <th>3</th>\n",
              "      <td>1960</td>\n",
              "      <td>A</td>\n",
              "      <td>high school</td>\n",
              "      <td>60.7</td>\n",
              "      <td>63.7</td>\n",
              "      <td>38.6</td>\n",
              "      <td>NaN</td>\n",
              "      <td>NaN</td>\n",
              "      <td>NaN</td>\n",
              "      <td>NaN</td>\n",
              "      <td>NaN</td>\n",
              "    </tr>\n",
              "    <tr>\n",
              "      <th>4</th>\n",
              "      <td>1970</td>\n",
              "      <td>A</td>\n",
              "      <td>high school</td>\n",
              "      <td>75.4</td>\n",
              "      <td>77.8</td>\n",
              "      <td>58.4</td>\n",
              "      <td>NaN</td>\n",
              "      <td>NaN</td>\n",
              "      <td>NaN</td>\n",
              "      <td>NaN</td>\n",
              "      <td>NaN</td>\n",
              "    </tr>\n",
              "    <tr>\n",
              "      <th>5</th>\n",
              "      <td>1980</td>\n",
              "      <td>A</td>\n",
              "      <td>high school</td>\n",
              "      <td>85.4</td>\n",
              "      <td>89.2</td>\n",
              "      <td>76.7</td>\n",
              "      <td>58.0</td>\n",
              "      <td>NaN</td>\n",
              "      <td>NaN</td>\n",
              "      <td>NaN</td>\n",
              "      <td>NaN</td>\n",
              "    </tr>\n",
              "    <tr>\n",
              "      <th>6</th>\n",
              "      <td>1990</td>\n",
              "      <td>A</td>\n",
              "      <td>high school</td>\n",
              "      <td>85.7</td>\n",
              "      <td>90.1</td>\n",
              "      <td>81.7</td>\n",
              "      <td>58.2</td>\n",
              "      <td>NaN</td>\n",
              "      <td>NaN</td>\n",
              "      <td>NaN</td>\n",
              "      <td>NaN</td>\n",
              "    </tr>\n",
              "    <tr>\n",
              "      <th>7</th>\n",
              "      <td>1995</td>\n",
              "      <td>A</td>\n",
              "      <td>high school</td>\n",
              "      <td>86.8</td>\n",
              "      <td>92.5</td>\n",
              "      <td>86.7</td>\n",
              "      <td>57.1</td>\n",
              "      <td>NaN</td>\n",
              "      <td>NaN</td>\n",
              "      <td>81.5</td>\n",
              "      <td>NaN</td>\n",
              "    </tr>\n",
              "    <tr>\n",
              "      <th>8</th>\n",
              "      <td>2000</td>\n",
              "      <td>A</td>\n",
              "      <td>high school</td>\n",
              "      <td>88.1</td>\n",
              "      <td>94.0</td>\n",
              "      <td>86.8</td>\n",
              "      <td>62.8</td>\n",
              "      <td>NaN</td>\n",
              "      <td>NaN</td>\n",
              "      <td>79.2</td>\n",
              "      <td>NaN</td>\n",
              "    </tr>\n",
              "    <tr>\n",
              "      <th>9</th>\n",
              "      <td>2005</td>\n",
              "      <td>A</td>\n",
              "      <td>high school</td>\n",
              "      <td>86.2</td>\n",
              "      <td>92.8</td>\n",
              "      <td>87.0</td>\n",
              "      <td>63.3</td>\n",
              "      <td>95.5</td>\n",
              "      <td>99.5</td>\n",
              "      <td>80.2</td>\n",
              "      <td>91.4</td>\n",
              "    </tr>\n",
              "  </tbody>\n",
              "</table>\n",
              "</div>"
            ],
            "text/plain": [
              "   Year Sex  ... American Indian/Alaska Native  Two or more races\n",
              "0  1920   A  ...                           NaN                NaN\n",
              "1  1940   A  ...                           NaN                NaN\n",
              "2  1950   A  ...                           NaN                NaN\n",
              "3  1960   A  ...                           NaN                NaN\n",
              "4  1970   A  ...                           NaN                NaN\n",
              "5  1980   A  ...                           NaN                NaN\n",
              "6  1990   A  ...                           NaN                NaN\n",
              "7  1995   A  ...                          81.5                NaN\n",
              "8  2000   A  ...                          79.2                NaN\n",
              "9  2005   A  ...                          80.2               91.4\n",
              "\n",
              "[10 rows x 11 columns]"
            ]
          },
          "metadata": {
            "tags": []
          },
          "execution_count": 13
        }
      ]
    },
    {
      "cell_type": "markdown",
      "metadata": {
        "id": "DUr7D1VJATjJ"
      },
      "source": [
        "2. Explorar la informacióón supone plantear preguntas y manipular los datos de manera apropiada. Supongamos, por ejemplo, que quieres saber cuál es el porcentaje de los distintos grados completados en un rango de años para un sexo determinado.\n",
        "> **Escribe una función explora rangoAnhos que tenga como entrada un año inicial, un año final y un sexo, y devuelva la subtabla que corresponda a los datos solicitados. Si no hay datos con los parámetros indicados, tu función\n",
        "debe devolver None.**"
      ]
    },
    {
      "cell_type": "code",
      "metadata": {
        "colab": {
          "base_uri": "https://localhost:8080/",
          "height": 429
        },
        "id": "f1Ab8BacL6vT",
        "outputId": "ae8bcb9b-7f3c-4587-ec1a-39189905e05d"
      },
      "source": [
        "sns.heatmap(Dschool.isnull(), cbar=False)"
      ],
      "execution_count": null,
      "outputs": [
        {
          "output_type": "execute_result",
          "data": {
            "text/plain": [
              "<matplotlib.axes._subplots.AxesSubplot at 0x7f157acf1fd0>"
            ]
          },
          "metadata": {
            "tags": []
          },
          "execution_count": 14
        },
        {
          "output_type": "display_data",
          "data": {
            "image/png": "[encoded data removed]",
            "text/plain": [
              "<Figure size 432x288 with 1 Axes>"
            ]
          },
          "metadata": {
            "tags": [],
            "needs_background": "light"
          }
        }
      ]
    },
    {
      "cell_type": "code",
      "metadata": {
        "id": "5RYVGk6q_UWe"
      },
      "source": [
        "def rangoAnhos(initial_year, final_year, sex):\n",
        "  \"\"\"\n",
        "  initial_year = año inicial\n",
        "  final_year = año de graduación (I guess)\n",
        "  sex = Sexo del grupo\n",
        "  \"\"\"\n",
        "  # Observamos que no contamos con ningun dato nulo en la columan de Year y de Sex\n",
        "  # por lo tanto no tendremos que preocuparnos por ningun error que pueda surgir \n",
        "\n",
        "  result = Dschool.loc[(Dschool.Year >= initial_year) & (Dschool.Year <= final_year) & (Dschool.Sex == sex)]\n",
        "  if len(result) == 0:\n",
        "    return (None)\n",
        "  else:\n",
        "    return (result)\n"
      ],
      "execution_count": null,
      "outputs": []
    },
    {
      "cell_type": "code",
      "metadata": {
        "colab": {
          "base_uri": "https://localhost:8080/",
          "height": 928
        },
        "id": "mpFZMxX7GQDY",
        "outputId": "7b25269c-1b1f-4927-a0ec-a76195e6ec9a"
      },
      "source": [
        "rangoAnhos(1999, 2010, \"M\")"
      ],
      "execution_count": null,
      "outputs": [
        {
          "output_type": "execute_result",
          "data": {
            "text/html": [
              "<div>\n",
              "<style scoped>\n",
              "    .dataframe tbody tr th:only-of-type {\n",
              "        vertical-align: middle;\n",
              "    }\n",
              "\n",
              "    .dataframe tbody tr th {\n",
              "        vertical-align: top;\n",
              "    }\n",
              "\n",
              "    .dataframe thead th {\n",
              "        text-align: right;\n",
              "    }\n",
              "</style>\n",
              "<table border=\"1\" class=\"dataframe\">\n",
              "  <thead>\n",
              "    <tr style=\"text-align: right;\">\n",
              "      <th></th>\n",
              "      <th>Year</th>\n",
              "      <th>Sex</th>\n",
              "      <th>Min degree</th>\n",
              "      <th>Total</th>\n",
              "      <th>White</th>\n",
              "      <th>Black</th>\n",
              "      <th>Hispanic</th>\n",
              "      <th>Asian</th>\n",
              "      <th>Pacific Islander</th>\n",
              "      <th>American Indian/Alaska Native</th>\n",
              "      <th>Two or more races</th>\n",
              "    </tr>\n",
              "  </thead>\n",
              "  <tbody>\n",
              "    <tr>\n",
              "      <th>81</th>\n",
              "      <td>2000</td>\n",
              "      <td>M</td>\n",
              "      <td>high school</td>\n",
              "      <td>86.7</td>\n",
              "      <td>92.9</td>\n",
              "      <td>87.6</td>\n",
              "      <td>59.2</td>\n",
              "      <td>NaN</td>\n",
              "      <td>NaN</td>\n",
              "      <td>68.5</td>\n",
              "      <td>NaN</td>\n",
              "    </tr>\n",
              "    <tr>\n",
              "      <th>82</th>\n",
              "      <td>2005</td>\n",
              "      <td>M</td>\n",
              "      <td>high school</td>\n",
              "      <td>85.0</td>\n",
              "      <td>91.8</td>\n",
              "      <td>86.6</td>\n",
              "      <td>63.2</td>\n",
              "      <td>96.7</td>\n",
              "      <td>99.1</td>\n",
              "      <td>73.0</td>\n",
              "      <td>89.1</td>\n",
              "    </tr>\n",
              "    <tr>\n",
              "      <th>83</th>\n",
              "      <td>2006</td>\n",
              "      <td>M</td>\n",
              "      <td>high school</td>\n",
              "      <td>84.4</td>\n",
              "      <td>92.3</td>\n",
              "      <td>84.2</td>\n",
              "      <td>60.5</td>\n",
              "      <td>97.2</td>\n",
              "      <td>97.8</td>\n",
              "      <td>75.0</td>\n",
              "      <td>89.2</td>\n",
              "    </tr>\n",
              "    <tr>\n",
              "      <th>84</th>\n",
              "      <td>2007</td>\n",
              "      <td>M</td>\n",
              "      <td>high school</td>\n",
              "      <td>84.9</td>\n",
              "      <td>92.7</td>\n",
              "      <td>87.4</td>\n",
              "      <td>60.5</td>\n",
              "      <td>96.3</td>\n",
              "      <td>NaN</td>\n",
              "      <td>76.6</td>\n",
              "      <td>92.9</td>\n",
              "    </tr>\n",
              "    <tr>\n",
              "      <th>85</th>\n",
              "      <td>2008</td>\n",
              "      <td>M</td>\n",
              "      <td>high school</td>\n",
              "      <td>85.8</td>\n",
              "      <td>92.6</td>\n",
              "      <td>85.7</td>\n",
              "      <td>65.6</td>\n",
              "      <td>95.4</td>\n",
              "      <td>100.0</td>\n",
              "      <td>90.5</td>\n",
              "      <td>92.7</td>\n",
              "    </tr>\n",
              "    <tr>\n",
              "      <th>86</th>\n",
              "      <td>2009</td>\n",
              "      <td>M</td>\n",
              "      <td>high school</td>\n",
              "      <td>87.5</td>\n",
              "      <td>94.4</td>\n",
              "      <td>88.8</td>\n",
              "      <td>66.2</td>\n",
              "      <td>96.2</td>\n",
              "      <td>98.2</td>\n",
              "      <td>77.5</td>\n",
              "      <td>92.0</td>\n",
              "    </tr>\n",
              "    <tr>\n",
              "      <th>87</th>\n",
              "      <td>2010</td>\n",
              "      <td>M</td>\n",
              "      <td>high school</td>\n",
              "      <td>87.4</td>\n",
              "      <td>94.6</td>\n",
              "      <td>87.9</td>\n",
              "      <td>65.7</td>\n",
              "      <td>93.5</td>\n",
              "      <td>98.2</td>\n",
              "      <td>93.2</td>\n",
              "      <td>87.9</td>\n",
              "    </tr>\n",
              "    <tr>\n",
              "      <th>97</th>\n",
              "      <td>2000</td>\n",
              "      <td>M</td>\n",
              "      <td>associate's</td>\n",
              "      <td>35.3</td>\n",
              "      <td>40.7</td>\n",
              "      <td>24.1</td>\n",
              "      <td>13.0</td>\n",
              "      <td>NaN</td>\n",
              "      <td>NaN</td>\n",
              "      <td>17.6</td>\n",
              "      <td>NaN</td>\n",
              "    </tr>\n",
              "    <tr>\n",
              "      <th>98</th>\n",
              "      <td>2005</td>\n",
              "      <td>M</td>\n",
              "      <td>associate's</td>\n",
              "      <td>33.4</td>\n",
              "      <td>39.6</td>\n",
              "      <td>22.7</td>\n",
              "      <td>16.1</td>\n",
              "      <td>66.7</td>\n",
              "      <td>18.5</td>\n",
              "      <td>19.9</td>\n",
              "      <td>31.0</td>\n",
              "    </tr>\n",
              "    <tr>\n",
              "      <th>99</th>\n",
              "      <td>2006</td>\n",
              "      <td>M</td>\n",
              "      <td>associate's</td>\n",
              "      <td>33.8</td>\n",
              "      <td>41.5</td>\n",
              "      <td>21.3</td>\n",
              "      <td>12.8</td>\n",
              "      <td>67.9</td>\n",
              "      <td>25.6</td>\n",
              "      <td>18.9</td>\n",
              "      <td>28.4</td>\n",
              "    </tr>\n",
              "    <tr>\n",
              "      <th>100</th>\n",
              "      <td>2007</td>\n",
              "      <td>M</td>\n",
              "      <td>associate's</td>\n",
              "      <td>34.1</td>\n",
              "      <td>40.8</td>\n",
              "      <td>26.4</td>\n",
              "      <td>13.8</td>\n",
              "      <td>66.3</td>\n",
              "      <td>NaN</td>\n",
              "      <td>14.9</td>\n",
              "      <td>30.8</td>\n",
              "    </tr>\n",
              "    <tr>\n",
              "      <th>101</th>\n",
              "      <td>2008</td>\n",
              "      <td>M</td>\n",
              "      <td>associate's</td>\n",
              "      <td>34.7</td>\n",
              "      <td>42.2</td>\n",
              "      <td>24.2</td>\n",
              "      <td>15.2</td>\n",
              "      <td>62.8</td>\n",
              "      <td>41.3</td>\n",
              "      <td>22.0</td>\n",
              "      <td>29.9</td>\n",
              "    </tr>\n",
              "    <tr>\n",
              "      <th>102</th>\n",
              "      <td>2009</td>\n",
              "      <td>M</td>\n",
              "      <td>associate's</td>\n",
              "      <td>34.5</td>\n",
              "      <td>41.8</td>\n",
              "      <td>21.9</td>\n",
              "      <td>15.9</td>\n",
              "      <td>66.6</td>\n",
              "      <td>17.4</td>\n",
              "      <td>17.1</td>\n",
              "      <td>31.7</td>\n",
              "    </tr>\n",
              "    <tr>\n",
              "      <th>103</th>\n",
              "      <td>2010</td>\n",
              "      <td>M</td>\n",
              "      <td>associate's</td>\n",
              "      <td>36.1</td>\n",
              "      <td>44.5</td>\n",
              "      <td>22.9</td>\n",
              "      <td>16.0</td>\n",
              "      <td>61.1</td>\n",
              "      <td>NaN</td>\n",
              "      <td>30.1</td>\n",
              "      <td>31.5</td>\n",
              "    </tr>\n",
              "    <tr>\n",
              "      <th>115</th>\n",
              "      <td>2000</td>\n",
              "      <td>M</td>\n",
              "      <td>bachelor's</td>\n",
              "      <td>27.9</td>\n",
              "      <td>32.3</td>\n",
              "      <td>18.4</td>\n",
              "      <td>8.3</td>\n",
              "      <td>NaN</td>\n",
              "      <td>NaN</td>\n",
              "      <td>NaN</td>\n",
              "      <td>NaN</td>\n",
              "    </tr>\n",
              "    <tr>\n",
              "      <th>116</th>\n",
              "      <td>2005</td>\n",
              "      <td>M</td>\n",
              "      <td>bachelor's</td>\n",
              "      <td>25.5</td>\n",
              "      <td>30.7</td>\n",
              "      <td>14.2</td>\n",
              "      <td>10.2</td>\n",
              "      <td>61.0</td>\n",
              "      <td>17.2</td>\n",
              "      <td>14.5</td>\n",
              "      <td>24.5</td>\n",
              "    </tr>\n",
              "    <tr>\n",
              "      <th>117</th>\n",
              "      <td>2006</td>\n",
              "      <td>M</td>\n",
              "      <td>bachelor's</td>\n",
              "      <td>25.3</td>\n",
              "      <td>31.4</td>\n",
              "      <td>15.2</td>\n",
              "      <td>6.9</td>\n",
              "      <td>60.9</td>\n",
              "      <td>23.3</td>\n",
              "      <td>NaN</td>\n",
              "      <td>20.8</td>\n",
              "    </tr>\n",
              "    <tr>\n",
              "      <th>118</th>\n",
              "      <td>2007</td>\n",
              "      <td>M</td>\n",
              "      <td>bachelor's</td>\n",
              "      <td>26.3</td>\n",
              "      <td>31.9</td>\n",
              "      <td>18.9</td>\n",
              "      <td>8.6</td>\n",
              "      <td>60.4</td>\n",
              "      <td>NaN</td>\n",
              "      <td>NaN</td>\n",
              "      <td>23.3</td>\n",
              "    </tr>\n",
              "    <tr>\n",
              "      <th>119</th>\n",
              "      <td>2008</td>\n",
              "      <td>M</td>\n",
              "      <td>bachelor's</td>\n",
              "      <td>26.8</td>\n",
              "      <td>32.6</td>\n",
              "      <td>19.0</td>\n",
              "      <td>10.0</td>\n",
              "      <td>55.8</td>\n",
              "      <td>26.1</td>\n",
              "      <td>17.7</td>\n",
              "      <td>25.7</td>\n",
              "    </tr>\n",
              "    <tr>\n",
              "      <th>120</th>\n",
              "      <td>2009</td>\n",
              "      <td>M</td>\n",
              "      <td>bachelor's</td>\n",
              "      <td>26.6</td>\n",
              "      <td>32.6</td>\n",
              "      <td>14.8</td>\n",
              "      <td>11.0</td>\n",
              "      <td>59.2</td>\n",
              "      <td>NaN</td>\n",
              "      <td>15.2</td>\n",
              "      <td>24.6</td>\n",
              "    </tr>\n",
              "    <tr>\n",
              "      <th>121</th>\n",
              "      <td>2010</td>\n",
              "      <td>M</td>\n",
              "      <td>bachelor's</td>\n",
              "      <td>27.8</td>\n",
              "      <td>34.8</td>\n",
              "      <td>15.0</td>\n",
              "      <td>10.8</td>\n",
              "      <td>52.3</td>\n",
              "      <td>NaN</td>\n",
              "      <td>18.9</td>\n",
              "      <td>24.9</td>\n",
              "    </tr>\n",
              "    <tr>\n",
              "      <th>131</th>\n",
              "      <td>2000</td>\n",
              "      <td>M</td>\n",
              "      <td>master's</td>\n",
              "      <td>4.7</td>\n",
              "      <td>4.9</td>\n",
              "      <td>2.1</td>\n",
              "      <td>1.5</td>\n",
              "      <td>NaN</td>\n",
              "      <td>NaN</td>\n",
              "      <td>NaN</td>\n",
              "      <td>NaN</td>\n",
              "    </tr>\n",
              "    <tr>\n",
              "      <th>132</th>\n",
              "      <td>2005</td>\n",
              "      <td>M</td>\n",
              "      <td>master's</td>\n",
              "      <td>5.2</td>\n",
              "      <td>6.2</td>\n",
              "      <td>1.1</td>\n",
              "      <td>1.7</td>\n",
              "      <td>20.5</td>\n",
              "      <td>NaN</td>\n",
              "      <td>NaN</td>\n",
              "      <td>NaN</td>\n",
              "    </tr>\n",
              "    <tr>\n",
              "      <th>133</th>\n",
              "      <td>2006</td>\n",
              "      <td>M</td>\n",
              "      <td>master's</td>\n",
              "      <td>5.1</td>\n",
              "      <td>5.8</td>\n",
              "      <td>1.7</td>\n",
              "      <td>1.1</td>\n",
              "      <td>21.8</td>\n",
              "      <td>NaN</td>\n",
              "      <td>NaN</td>\n",
              "      <td>5.9</td>\n",
              "    </tr>\n",
              "    <tr>\n",
              "      <th>134</th>\n",
              "      <td>2007</td>\n",
              "      <td>M</td>\n",
              "      <td>master's</td>\n",
              "      <td>5.0</td>\n",
              "      <td>5.7</td>\n",
              "      <td>3.3</td>\n",
              "      <td>0.6</td>\n",
              "      <td>19.3</td>\n",
              "      <td>NaN</td>\n",
              "      <td>NaN</td>\n",
              "      <td>9.8</td>\n",
              "    </tr>\n",
              "    <tr>\n",
              "      <th>135</th>\n",
              "      <td>2008</td>\n",
              "      <td>M</td>\n",
              "      <td>master's</td>\n",
              "      <td>5.3</td>\n",
              "      <td>5.9</td>\n",
              "      <td>3.4</td>\n",
              "      <td>1.2</td>\n",
              "      <td>22.1</td>\n",
              "      <td>NaN</td>\n",
              "      <td>NaN</td>\n",
              "      <td>7.8</td>\n",
              "    </tr>\n",
              "    <tr>\n",
              "      <th>136</th>\n",
              "      <td>2009</td>\n",
              "      <td>M</td>\n",
              "      <td>master's</td>\n",
              "      <td>6.1</td>\n",
              "      <td>7.4</td>\n",
              "      <td>3.2</td>\n",
              "      <td>1.2</td>\n",
              "      <td>22.0</td>\n",
              "      <td>NaN</td>\n",
              "      <td>NaN</td>\n",
              "      <td>5.0</td>\n",
              "    </tr>\n",
              "    <tr>\n",
              "      <th>137</th>\n",
              "      <td>2010</td>\n",
              "      <td>M</td>\n",
              "      <td>master's</td>\n",
              "      <td>5.2</td>\n",
              "      <td>6.3</td>\n",
              "      <td>2.9</td>\n",
              "      <td>1.5</td>\n",
              "      <td>16.2</td>\n",
              "      <td>NaN</td>\n",
              "      <td>NaN</td>\n",
              "      <td>NaN</td>\n",
              "    </tr>\n",
              "  </tbody>\n",
              "</table>\n",
              "</div>"
            ],
            "text/plain": [
              "     Year Sex  ... American Indian/Alaska Native  Two or more races\n",
              "81   2000   M  ...                          68.5                NaN\n",
              "82   2005   M  ...                          73.0               89.1\n",
              "83   2006   M  ...                          75.0               89.2\n",
              "84   2007   M  ...                          76.6               92.9\n",
              "85   2008   M  ...                          90.5               92.7\n",
              "86   2009   M  ...                          77.5               92.0\n",
              "87   2010   M  ...                          93.2               87.9\n",
              "97   2000   M  ...                          17.6                NaN\n",
              "98   2005   M  ...                          19.9               31.0\n",
              "99   2006   M  ...                          18.9               28.4\n",
              "100  2007   M  ...                          14.9               30.8\n",
              "101  2008   M  ...                          22.0               29.9\n",
              "102  2009   M  ...                          17.1               31.7\n",
              "103  2010   M  ...                          30.1               31.5\n",
              "115  2000   M  ...                           NaN                NaN\n",
              "116  2005   M  ...                          14.5               24.5\n",
              "117  2006   M  ...                           NaN               20.8\n",
              "118  2007   M  ...                           NaN               23.3\n",
              "119  2008   M  ...                          17.7               25.7\n",
              "120  2009   M  ...                          15.2               24.6\n",
              "121  2010   M  ...                          18.9               24.9\n",
              "131  2000   M  ...                           NaN                NaN\n",
              "132  2005   M  ...                           NaN                NaN\n",
              "133  2006   M  ...                           NaN                5.9\n",
              "134  2007   M  ...                           NaN                9.8\n",
              "135  2008   M  ...                           NaN                7.8\n",
              "136  2009   M  ...                           NaN                5.0\n",
              "137  2010   M  ...                           NaN                NaN\n",
              "\n",
              "[28 rows x 11 columns]"
            ]
          },
          "metadata": {
            "tags": []
          },
          "execution_count": 16
        }
      ]
    },
    {
      "cell_type": "markdown",
      "metadata": {
        "id": "khWUk3XZFPiT"
      },
      "source": [
        "3. ¿Cómo se compara la obtención de un grado de acuerdo con el sexo? \n",
        "> **Escribe la función comparaGradoPorSexo_anho que acepte de entrada grado y año, y devuelva la tupla (% de hombres con al menos ese grado en ese año, % de mujeres con al menos ese grado en ese año)**"
      ]
    },
    {
      "cell_type": "code",
      "metadata": {
        "id": "70s6tSfsEkSb"
      },
      "source": [
        "def comparaGradoPorSexo_anho(degree, year):\n",
        "  \"\"\"\n",
        "  degree = corresponde al grado minimo en los datos\n",
        "  year = corresponde al año que se solicita\n",
        "  return = (Porcentaje Hombres, Porcentaje Mujeres)\n",
        "  \"\"\"\n",
        "  filter1 = Dschool.loc[(Dschool[\"Min degree\"] == degree) & (Dschool.Year == year)]\n",
        "  women = filter1.loc[(filter1.Sex == \"F\")]\n",
        "  men = filter1.loc[(filter1.Sex == \"M\")]\n",
        "  # Dado el mapa de calor anterior para detectar valores nulos, observamos\n",
        "  # que tenemos un dato nulo en la columna Total\n",
        "  # tenemos una probabilidad muy baja pero para que nuestra funcióón no truene\n",
        "  # añadimos un try except \n",
        "  try:\n",
        "    percentMen = list(men[\"Total\"])[0]\n",
        "  except:\n",
        "    percentMen = 0\n",
        "  \n",
        "  try:\n",
        "    percentWomen = list(women[\"Total\"])[0]\n",
        "  except:\n",
        "    percentWomen = 0\n",
        "  result = (percentMen, percentWomen)\n",
        "  return (result)\n",
        "  "
      ],
      "execution_count": null,
      "outputs": []
    },
    {
      "cell_type": "code",
      "metadata": {
        "colab": {
          "base_uri": "https://localhost:8080/"
        },
        "id": "28po-V8zJ4BS",
        "outputId": "9703c3f4-b457-4e5f-b609-397e3ac65caa"
      },
      "source": [
        "comparaGradoPorSexo_anho(\"high school\", 1990)"
      ],
      "execution_count": null,
      "outputs": [
        {
          "output_type": "execute_result",
          "data": {
            "text/plain": [
              "(84.4, 87.0)"
            ]
          },
          "metadata": {
            "tags": []
          },
          "execution_count": 18
        }
      ]
    },
    {
      "cell_type": "markdown",
      "metadata": {
        "id": "-h6vWk7wQXUZ"
      },
      "source": [
        "# Seaborn"
      ]
    },
    {
      "cell_type": "markdown",
      "metadata": {
        "id": "jplAYM96QjNW"
      },
      "source": [
        "4. Grafica el porcentaje total a través de los años de personas que obtuvieron al\n",
        "menos un grado universitario (bachelor). Utiliza marcadores Y segmentos de\n",
        "línea. Incluye en los mismos ejes la gráfica para hombres y mujeres."
      ]
    },
    {
      "cell_type": "code",
      "metadata": {
        "colab": {
          "base_uri": "https://localhost:8080/"
        },
        "id": "q6cUzKbGUzPW",
        "outputId": "1574baa2-8973-4fab-a2d8-583701ac472e"
      },
      "source": [
        "set(list(Dschool[\"Min degree\"]))"
      ],
      "execution_count": null,
      "outputs": [
        {
          "output_type": "execute_result",
          "data": {
            "text/plain": [
              "{\"associate's\", \"bachelor's\", 'high school', \"master's\"}"
            ]
          },
          "metadata": {
            "tags": []
          },
          "execution_count": 19
        }
      ]
    },
    {
      "cell_type": "code",
      "metadata": {
        "colab": {
          "base_uri": "https://localhost:8080/",
          "height": 206
        },
        "id": "aFXT8HWoJbMk",
        "outputId": "98b13d18-c482-483e-9bb4-375f008c0ecb"
      },
      "source": [
        "bachelor = Dschool.loc[(Dschool[\"Min degree\"] == \"bachelor's\") & (Dschool.Sex != \"A\")]\n",
        "bachelor.head(5)"
      ],
      "execution_count": null,
      "outputs": [
        {
          "output_type": "execute_result",
          "data": {
            "text/html": [
              "<div>\n",
              "<style scoped>\n",
              "    .dataframe tbody tr th:only-of-type {\n",
              "        vertical-align: middle;\n",
              "    }\n",
              "\n",
              "    .dataframe tbody tr th {\n",
              "        vertical-align: top;\n",
              "    }\n",
              "\n",
              "    .dataframe thead th {\n",
              "        text-align: right;\n",
              "    }\n",
              "</style>\n",
              "<table border=\"1\" class=\"dataframe\">\n",
              "  <thead>\n",
              "    <tr style=\"text-align: right;\">\n",
              "      <th></th>\n",
              "      <th>Year</th>\n",
              "      <th>Sex</th>\n",
              "      <th>Min degree</th>\n",
              "      <th>Total</th>\n",
              "      <th>White</th>\n",
              "      <th>Black</th>\n",
              "      <th>Hispanic</th>\n",
              "      <th>Asian</th>\n",
              "      <th>Pacific Islander</th>\n",
              "      <th>American Indian/Alaska Native</th>\n",
              "      <th>Two or more races</th>\n",
              "    </tr>\n",
              "  </thead>\n",
              "  <tbody>\n",
              "    <tr>\n",
              "      <th>112</th>\n",
              "      <td>1980</td>\n",
              "      <td>M</td>\n",
              "      <td>bachelor's</td>\n",
              "      <td>24.0</td>\n",
              "      <td>26.8</td>\n",
              "      <td>10.5</td>\n",
              "      <td>8.4</td>\n",
              "      <td>NaN</td>\n",
              "      <td>NaN</td>\n",
              "      <td>NaN</td>\n",
              "      <td>NaN</td>\n",
              "    </tr>\n",
              "    <tr>\n",
              "      <th>113</th>\n",
              "      <td>1990</td>\n",
              "      <td>M</td>\n",
              "      <td>bachelor's</td>\n",
              "      <td>23.7</td>\n",
              "      <td>26.6</td>\n",
              "      <td>15.1</td>\n",
              "      <td>7.3</td>\n",
              "      <td>NaN</td>\n",
              "      <td>NaN</td>\n",
              "      <td>NaN</td>\n",
              "      <td>NaN</td>\n",
              "    </tr>\n",
              "    <tr>\n",
              "      <th>114</th>\n",
              "      <td>1995</td>\n",
              "      <td>M</td>\n",
              "      <td>bachelor's</td>\n",
              "      <td>24.5</td>\n",
              "      <td>28.4</td>\n",
              "      <td>17.4</td>\n",
              "      <td>7.8</td>\n",
              "      <td>NaN</td>\n",
              "      <td>NaN</td>\n",
              "      <td>NaN</td>\n",
              "      <td>NaN</td>\n",
              "    </tr>\n",
              "    <tr>\n",
              "      <th>115</th>\n",
              "      <td>2000</td>\n",
              "      <td>M</td>\n",
              "      <td>bachelor's</td>\n",
              "      <td>27.9</td>\n",
              "      <td>32.3</td>\n",
              "      <td>18.4</td>\n",
              "      <td>8.3</td>\n",
              "      <td>NaN</td>\n",
              "      <td>NaN</td>\n",
              "      <td>NaN</td>\n",
              "      <td>NaN</td>\n",
              "    </tr>\n",
              "    <tr>\n",
              "      <th>116</th>\n",
              "      <td>2005</td>\n",
              "      <td>M</td>\n",
              "      <td>bachelor's</td>\n",
              "      <td>25.5</td>\n",
              "      <td>30.7</td>\n",
              "      <td>14.2</td>\n",
              "      <td>10.2</td>\n",
              "      <td>61.0</td>\n",
              "      <td>17.2</td>\n",
              "      <td>14.5</td>\n",
              "      <td>24.5</td>\n",
              "    </tr>\n",
              "  </tbody>\n",
              "</table>\n",
              "</div>"
            ],
            "text/plain": [
              "     Year Sex  ... American Indian/Alaska Native  Two or more races\n",
              "112  1980   M  ...                           NaN                NaN\n",
              "113  1990   M  ...                           NaN                NaN\n",
              "114  1995   M  ...                           NaN                NaN\n",
              "115  2000   M  ...                           NaN                NaN\n",
              "116  2005   M  ...                          14.5               24.5\n",
              "\n",
              "[5 rows x 11 columns]"
            ]
          },
          "metadata": {
            "tags": []
          },
          "execution_count": 20
        }
      ]
    },
    {
      "cell_type": "code",
      "metadata": {
        "colab": {
          "base_uri": "https://localhost:8080/",
          "height": 458
        },
        "id": "gDJWCp1gVsr7",
        "outputId": "1b13834a-fd91-450c-9b71-4e31929bcbb1"
      },
      "source": [
        "sns.jointplot(data=bachelor, x=\"Year\", y=\"Total\", kind=\"scatter\", hue=\"Sex\")\n",
        "#['scatter', 'hist', 'hex', 'kde', 'reg', 'resid']"
      ],
      "execution_count": null,
      "outputs": [
        {
          "output_type": "execute_result",
          "data": {
            "text/plain": [
              "<seaborn.axisgrid.JointGrid at 0x7f15783dbcf8>"
            ]
          },
          "metadata": {
            "tags": []
          },
          "execution_count": 21
        },
        {
          "output_type": "display_data",
          "data": {
            "image/png": "[encoded data removed]",
            "text/plain": [
              "<Figure size 432x432 with 3 Axes>"
            ]
          },
          "metadata": {
            "tags": [],
            "needs_background": "light"
          }
        }
      ]
    },
    {
      "cell_type": "code",
      "metadata": {
        "colab": {
          "base_uri": "https://localhost:8080/",
          "height": 400
        },
        "id": "6bos5C1sYBba",
        "outputId": "5da019c7-d803-42fe-a556-b73881e357fb"
      },
      "source": [
        "sns.relplot(data=bachelor, x=\"Year\", y=\"Total\", hue=\"Sex\", kind=\"line\")"
      ],
      "execution_count": null,
      "outputs": [
        {
          "output_type": "execute_result",
          "data": {
            "text/plain": [
              "<seaborn.axisgrid.FacetGrid at 0x7f15770a1860>"
            ]
          },
          "metadata": {
            "tags": []
          },
          "execution_count": 22
        },
        {
          "output_type": "display_data",
          "data": {
            "image/png": "[encoded data removed]",
            "text/plain": [
              "<Figure size 404.625x360 with 1 Axes>"
            ]
          },
          "metadata": {
            "tags": [],
            "needs_background": "light"
          }
        }
      ]
    },
    {
      "cell_type": "markdown",
      "metadata": {
        "id": "zYElHZ9YbKmu"
      },
      "source": [
        "5. Crea una función que, dado un año inicial y un año final, genere gráficas que permitan comparar el porcentaje total, en el rango de años, de hombres/mujeres/todos que alcanzaron al menos grado de preparatoria (high school)"
      ]
    },
    {
      "cell_type": "code",
      "metadata": {
        "id": "0RM89BJlaRFJ"
      },
      "source": [
        "def graph_generate(initial_year, final_year):\n",
        "  \"\"\"\n",
        "  initial_year = like \"2000\", Año de inicio para la gráfica\n",
        "  final_year = like \"2020\", Año final para la gráfica\n",
        "  \"\"\"\n",
        "  result = Dschool.loc[(Dschool.Year >= initial_year) & (Dschool.Year <= final_year) & (Dschool[\"Min degree\"] == \"high school\")]\n",
        "  S = sns.relplot(data=result, x=\"Year\", y=\"Total\", hue=\"Sex\", kind=\"line\", palette=\"dark\")\n",
        "  return (S)"
      ],
      "execution_count": null,
      "outputs": []
    },
    {
      "cell_type": "code",
      "metadata": {
        "colab": {
          "base_uri": "https://localhost:8080/",
          "height": 400
        },
        "id": "UXyVOXZeduFg",
        "outputId": "16bed396-7683-42c7-8cb7-7708e28b0951"
      },
      "source": [
        "graph_generate(2000, 2020)"
      ],
      "execution_count": null,
      "outputs": [
        {
          "output_type": "execute_result",
          "data": {
            "text/plain": [
              "<seaborn.axisgrid.FacetGrid at 0x7f157700c080>"
            ]
          },
          "metadata": {
            "tags": []
          },
          "execution_count": 24
        },
        {
          "output_type": "display_data",
          "data": {
            "image/png": "[encoded data removed]",
            "text/plain": [
              "<Figure size 404.625x360 with 1 Axes>"
            ]
          },
          "metadata": {
            "tags": [],
            "needs_background": "light"
          }
        }
      ]
    },
    {
      "cell_type": "markdown",
      "metadata": {
        "id": "EbbL7Fw7gZDJ"
      },
      "source": [
        "6. Imagina que queremos explorar que sucedió de acuerdo a la etnicidad. Escribe una variante de la función anterior que permita especificar etnicidad como parámetro de entrada y genere una gráfica (del tipo que prefieras) por año (para ese rango de años) y por sexo para la etnicidad señalada (sugerencia: intenta con otro estilo/diseño/tipo de gráfica)."
      ]
    },
    {
      "cell_type": "code",
      "metadata": {
        "colab": {
          "base_uri": "https://localhost:8080/",
          "height": 143
        },
        "id": "9kjhZ2cNy-52",
        "outputId": "3899d3c3-4bdc-4f24-c205-30322bb2be09"
      },
      "source": [
        "Dschool.head(3)"
      ],
      "execution_count": null,
      "outputs": [
        {
          "output_type": "execute_result",
          "data": {
            "text/html": [
              "<div>\n",
              "<style scoped>\n",
              "    .dataframe tbody tr th:only-of-type {\n",
              "        vertical-align: middle;\n",
              "    }\n",
              "\n",
              "    .dataframe tbody tr th {\n",
              "        vertical-align: top;\n",
              "    }\n",
              "\n",
              "    .dataframe thead th {\n",
              "        text-align: right;\n",
              "    }\n",
              "</style>\n",
              "<table border=\"1\" class=\"dataframe\">\n",
              "  <thead>\n",
              "    <tr style=\"text-align: right;\">\n",
              "      <th></th>\n",
              "      <th>Year</th>\n",
              "      <th>Sex</th>\n",
              "      <th>Min degree</th>\n",
              "      <th>Total</th>\n",
              "      <th>White</th>\n",
              "      <th>Black</th>\n",
              "      <th>Hispanic</th>\n",
              "      <th>Asian</th>\n",
              "      <th>Pacific Islander</th>\n",
              "      <th>American Indian/Alaska Native</th>\n",
              "      <th>Two or more races</th>\n",
              "    </tr>\n",
              "  </thead>\n",
              "  <tbody>\n",
              "    <tr>\n",
              "      <th>0</th>\n",
              "      <td>1920</td>\n",
              "      <td>A</td>\n",
              "      <td>high school</td>\n",
              "      <td>NaN</td>\n",
              "      <td>22.0</td>\n",
              "      <td>6.3</td>\n",
              "      <td>NaN</td>\n",
              "      <td>NaN</td>\n",
              "      <td>NaN</td>\n",
              "      <td>NaN</td>\n",
              "      <td>NaN</td>\n",
              "    </tr>\n",
              "    <tr>\n",
              "      <th>1</th>\n",
              "      <td>1940</td>\n",
              "      <td>A</td>\n",
              "      <td>high school</td>\n",
              "      <td>38.1</td>\n",
              "      <td>41.2</td>\n",
              "      <td>12.3</td>\n",
              "      <td>NaN</td>\n",
              "      <td>NaN</td>\n",
              "      <td>NaN</td>\n",
              "      <td>NaN</td>\n",
              "      <td>NaN</td>\n",
              "    </tr>\n",
              "    <tr>\n",
              "      <th>2</th>\n",
              "      <td>1950</td>\n",
              "      <td>A</td>\n",
              "      <td>high school</td>\n",
              "      <td>52.8</td>\n",
              "      <td>56.3</td>\n",
              "      <td>23.6</td>\n",
              "      <td>NaN</td>\n",
              "      <td>NaN</td>\n",
              "      <td>NaN</td>\n",
              "      <td>NaN</td>\n",
              "      <td>NaN</td>\n",
              "    </tr>\n",
              "  </tbody>\n",
              "</table>\n",
              "</div>"
            ],
            "text/plain": [
              "   Year Sex  ... American Indian/Alaska Native  Two or more races\n",
              "0  1920   A  ...                           NaN                NaN\n",
              "1  1940   A  ...                           NaN                NaN\n",
              "2  1950   A  ...                           NaN                NaN\n",
              "\n",
              "[3 rows x 11 columns]"
            ]
          },
          "metadata": {
            "tags": []
          },
          "execution_count": 25
        }
      ]
    },
    {
      "cell_type": "code",
      "metadata": {
        "id": "AODPEEFzdwD9"
      },
      "source": [
        "def graph_generate_e(initial_year, final_year, ethnicity):\n",
        "  \"\"\"\n",
        "  initial_year = like \"2000\", Año de inicio para la gráfica\n",
        "  final_year = like \"2020\", Año final para la gráfica\n",
        "  ethnicity = like \"Hispanic\", por defecto se toma la etnicidad hispanica\n",
        "  \"\"\"\n",
        "  # Filtramos para los años solicitados\n",
        "  result = Dschool.loc[(Dschool.Year >= initial_year) & (Dschool.Year <= final_year) & (Dschool.Sex != \"A\")]\n",
        "  # NO ESTABA SEGURO DE SI SE REQUERIA TODOS (A) ASÍÍ QUE MEJOR LO QUITE\n",
        "  # ASI MISMO, no sabía si tamiéén tenia que ser del high school pero por si las dudas\n",
        "  # dejde la línea para que solo se descomente\n",
        "  #result = Dschool.loc[(Dschool.Year >= initial_year) & (Dschool.Year <= final_year) & (Dschool.Sex != \"A\") & (Dschool[\"Min degree\"] == \"high school\")]\n",
        "  # result = Dschool.loc[(Dschool.Year >= initial_year) & (Dschool.Year <= final_year)]\n",
        "  try:\n",
        "    # seleccionamos los paráámetros que necesitamos\n",
        "    result = result[[\"Sex\", \"Total\", \"Year\", ethnicity]]\n",
        "  except:\n",
        "    return(\"Corrobora que hayas introducido bien ethnicity\")\n",
        "\n",
        "  #S = sns.relplot(data=result, x=\"Year\", y=\"Total\", kind = \"line\", hue=\"Sex\", palette=\"dark\")\n",
        "  \n",
        "  #S = sns.jointplot(data=result, x=\"Year\", y=\"Total\", kind=\"scatter\", hue=\"Sex\")\n",
        "  \n",
        "  S = sns.displot(data = result, x=\"Year\", y = \"Total\", hue=\"Sex\")#,  binwidth=5)\n",
        "  S.set(title='Etnicidad')\n",
        "  return (S)"
      ],
      "execution_count": null,
      "outputs": []
    },
    {
      "cell_type": "markdown",
      "metadata": {
        "id": "s008WD2F9jyF"
      },
      "source": [
        ">NOTA PARA MI: Los cuadros naranja oscuro, tienen al azul por debajo, lo mismo para los azules."
      ]
    },
    {
      "cell_type": "code",
      "metadata": {
        "colab": {
          "base_uri": "https://localhost:8080/",
          "height": 402
        },
        "id": "__g2Bnng1TIO",
        "outputId": "d5c8a27c-bcd3-4398-c597-bfba6a48ada3"
      },
      "source": [
        "graph_generate_e(2000, 2010, ethnicity=\"Hispanic\")"
      ],
      "execution_count": null,
      "outputs": [
        {
          "output_type": "execute_result",
          "data": {
            "text/plain": [
              "<seaborn.axisgrid.FacetGrid at 0x7f1576f99438>"
            ]
          },
          "metadata": {
            "tags": []
          },
          "execution_count": 27
        },
        {
          "output_type": "display_data",
          "data": {
            "image/png": "[encoded data removed]",
            "text/plain": [
              "<Figure size 404.625x360 with 1 Axes>"
            ]
          },
          "metadata": {
            "tags": [],
            "needs_background": "light"
          }
        }
      ]
    },
    {
      "cell_type": "markdown",
      "metadata": {
        "id": "9BZQXd-H5eb0"
      },
      "source": [
        "7. Plantea una pregunta que consideres interesante y diseña una visualización que permita explorarla.\n",
        "\n",
        "> Según la etnicidad, vamos a ver **¿qué raza es la que menos oportunidad a tenido de estudio?** así mismo, observar hombres y mujeres únicamente y no la categoria \"A\" Que corresponde a todos."
      ]
    },
    {
      "cell_type": "markdown",
      "metadata": {
        "id": "cL3u7FDmGpj2"
      },
      "source": [
        "> Para poder resolver mi pregunta con una visualización fue necesario juntar todas las razas en una sola columna, he de mencionar (para que esto no se vaya a tomar como Plagio) que Nikolai me ayudo y me proporciono un código que ya hacía esto, que el programo. Yo lo modifique un poco para adaptarlo a una función de tal manera que le pasarás un arreglo con los razas que querias añadir a la columna. \n",
        "y eliminando \"Total\" de la columna Type debido a que \"Total\" Corresponde al porcentaje de generos, no de razas, segun lo que leí en la descripción de los datos. "
      ]
    },
    {
      "cell_type": "code",
      "metadata": {
        "id": "7fACqXNMBvM9"
      },
      "source": [
        "\n",
        "def joinRaces(races):\n",
        "  \"\"\"\n",
        "  races = arreglo con las razas que deseas tomar para la gráfica\n",
        "  \"\"\"\n",
        "  School = Dschool.iloc[:,:4]\n",
        "  School[\"Type\"] = [\"Total\"]*214\n",
        "\n",
        "  ethnicDict = races\n",
        "  for i in range(len(ethnicDict)):\n",
        "    SchoolTMP = Dschool.iloc[:,[0,1,2,i+4]]\n",
        "    SchoolTMP = SchoolTMP.rename(columns={f\"{ethnicDict[i]}\":\"Total\"})\n",
        "    SchoolTMP[\"Type\"] = [f\"{ethnicDict[i]}\"]*214\n",
        "    School = School.append(SchoolTMP)\n",
        "\n",
        "  School = School.loc[(School.Sex != \"A\")]\n",
        "  School = School.loc[(School.Type != \"Total\")]\n",
        "\n",
        "  return (School)\n",
        "\n",
        "ethnicDict = [\"White\", \"Black\", \"Hispanic\", \"Asian\", \"Pacific Islander\", \"American Indian/Alaska Native\", \"Two or more races\"]\n",
        "\n",
        "byraces = joinRaces(ethnicDict)"
      ],
      "execution_count": null,
      "outputs": []
    },
    {
      "cell_type": "code",
      "metadata": {
        "colab": {
          "base_uri": "https://localhost:8080/",
          "height": 400
        },
        "id": "ARGPJ82rh1tM",
        "outputId": "d5f6b709-3515-4df7-969c-c5af051c58a0"
      },
      "source": [
        "sns.relplot(data = byraces, x=\"Type\", y = \"Total\", hue=\"Min degree\", kind=\"line\")#,  binwidth=3)"
      ],
      "execution_count": null,
      "outputs": [
        {
          "output_type": "execute_result",
          "data": {
            "text/plain": [
              "<seaborn.axisgrid.FacetGrid at 0x7f1576fef128>"
            ]
          },
          "metadata": {
            "tags": []
          },
          "execution_count": 29
        },
        {
          "output_type": "display_data",
          "data": {
            "image/png": "[encoded data removed]",
            "text/plain": [
              "<Figure size 453.125x360 with 1 Axes>"
            ]
          },
          "metadata": {
            "tags": [],
            "needs_background": "light"
          }
        }
      ]
    },
    {
      "cell_type": "markdown",
      "metadata": {
        "id": "5FsHcMDDK1kg"
      },
      "source": [
        "8. Justifica la elección que hiciste para la visualización de los dos incisos anteriores.\n",
        "\n",
        "> La razón de mi elección se debe a que a primera vista claramente se puede ver lo que comparte, es decir, con leer la pregunta y ver la gráfica o únicamente viendo la gráfica y teniendo la fuente de datos, podemos ver que es lo que trata de transmitirnos la gráfica. \n",
        "Tome entonces como razón principal: por que logra entenderse únicamente viendo la gráfica y la fuente de los datos."
      ]
    },
    {
      "cell_type": "markdown",
      "metadata": {
        "id": "LjXcrxziBtzs"
      },
      "source": [
        "# Reflexión"
      ]
    },
    {
      "cell_type": "markdown",
      "metadata": {
        "id": "mCh1xq8_ByxK"
      },
      "source": [
        "9. ¿Cuáles consideras que son las limitaciones de este conjunto de datos?\n",
        "> Retomando la gráfica de calor para detectar valores nulos, una de las principales limitaciones es la falta de datos, observamos que para blancos y negros no tenemos ausencia de datos, pero para las demás razas tenemos muchos datos faltantes, consecuentemente en los analisis que hagamos sobre los datos, pueden resultar sesgados ante la ausencia de datos de algunas razas. "
      ]
    },
    {
      "cell_type": "markdown",
      "metadata": {
        "id": "FgFJY9FUC7vZ"
      },
      "source": [
        "10. Supón que alguien te contrató para llevar a cabo este análisis exploratorio.\n",
        "\n",
        "¿Hay preocupaciones éticas que puedes identificar en el ejercicio que realizaste?\n",
        "> Una preocupación Ética es ante el hecho de que la raza \"hispana\" este teniendo una cantidad de grados baja respecto a las demás razas, así mismo ver a qué se debe que las razas diferentes de: Blanca, Negra, Hispana y Asiatica. No tengan masters. (Que claro, recordemos que tenemos muchos datos faltantes, tal vez esa sea una razón) \n",
        "\n",
        "¿Qué advertencias o recomendaciones incluirías en tu reporte?\n",
        "> La ausencia de datos (Ver las siguientes celdas) y como esto puede afectar a las conclusiones. Es decir, faltan ¡muchos datos! Entonces no tenemos mucha seguridad para maniobrar y tomar algunas decisiones. A menos de que se trabaje únicamente con las razas: Blanca, Negra e Hispana.\n"
      ]
    },
    {
      "cell_type": "markdown",
      "metadata": {
        "id": "7Ui2ANOTmG0V"
      },
      "source": [
        "> Observe cuanto se reduce el conjunto de datos cuando eliminas un registro que tiene almenos una columna NaN"
      ]
    },
    {
      "cell_type": "code",
      "metadata": {
        "id": "kqGTAk1T8s3I",
        "colab": {
          "base_uri": "https://localhost:8080/"
        },
        "outputId": "621b5034-3e69-4f15-a107-20601e3037bb"
      },
      "source": [
        "Dschool.shape\n",
        "# TENEMOS 214 REGISTROS INICIALMENTE"
      ],
      "execution_count": null,
      "outputs": [
        {
          "output_type": "execute_result",
          "data": {
            "text/plain": [
              "(214, 11)"
            ]
          },
          "metadata": {
            "tags": []
          },
          "execution_count": 30
        }
      ]
    },
    {
      "cell_type": "code",
      "metadata": {
        "colab": {
          "base_uri": "https://localhost:8080/",
          "height": 429
        },
        "id": "ZzObVVcnmbu1",
        "outputId": "fd65b296-0403-41c2-8687-da7b90bfca1d"
      },
      "source": [
        "sns.heatmap(Dschool.isnull(), cbar=False)"
      ],
      "execution_count": null,
      "outputs": [
        {
          "output_type": "execute_result",
          "data": {
            "text/plain": [
              "<matplotlib.axes._subplots.AxesSubplot at 0x7f1576f34b38>"
            ]
          },
          "metadata": {
            "tags": []
          },
          "execution_count": 31
        },
        {
          "output_type": "display_data",
          "data": {
            "image/png": "[encoded data removed]",
            "text/plain": [
              "<Figure size 432x288 with 1 Axes>"
            ]
          },
          "metadata": {
            "tags": [],
            "needs_background": "light"
          }
        }
      ]
    },
    {
      "cell_type": "code",
      "metadata": {
        "colab": {
          "base_uri": "https://localhost:8080/"
        },
        "id": "FAF0YnfslsKp",
        "outputId": "2558a328-f2c0-465a-bbc6-31c3d216c7be"
      },
      "source": [
        "data_without_nan=Dschool.dropna() \n",
        "data_without_nan.shape\n",
        "# SE REDUJO MÁS DE LA MITAD!!"
      ],
      "execution_count": null,
      "outputs": [
        {
          "output_type": "execute_result",
          "data": {
            "text/plain": [
              "(89, 11)"
            ]
          },
          "metadata": {
            "tags": []
          },
          "execution_count": 32
        }
      ]
    },
    {
      "cell_type": "code",
      "metadata": {
        "colab": {
          "base_uri": "https://localhost:8080/",
          "height": 429
        },
        "id": "kJ6V7764mfJN",
        "outputId": "d874a377-b1cc-404f-e37c-84bb73e19ab8"
      },
      "source": [
        "sns.heatmap(data_without_nan.isnull(), cbar=False)"
      ],
      "execution_count": null,
      "outputs": [
        {
          "output_type": "execute_result",
          "data": {
            "text/plain": [
              "<matplotlib.axes._subplots.AxesSubplot at 0x7f1576e7e080>"
            ]
          },
          "metadata": {
            "tags": []
          },
          "execution_count": 33
        },
        {
          "output_type": "display_data",
          "data": {
            "image/png": "[encoded data removed]",
            "text/plain": [
              "<Figure size 432x288 with 1 Axes>"
            ]
          },
          "metadata": {
            "tags": [],
            "needs_background": "light"
          }
        }
      ]
    },
    {
      "cell_type": "markdown",
      "metadata": {
        "id": "uqLjru6umtMU"
      },
      "source": [
        "> Si trabajamos con datos \"completos\" observamos que nuestro conjunto de datos se reduce ¡más de la mitad!"
      ]
    },
    {
      "cell_type": "markdown",
      "metadata": {
        "id": "miDcQHc3nTkv"
      },
      "source": [
        "Tomamos la gráfica del ejercicio 4 de la parte de Seaborn pero ahora los datos que usamos son los datos \"completos\", es decir, los que no tienen valores NaN"
      ]
    },
    {
      "cell_type": "code",
      "metadata": {
        "colab": {
          "base_uri": "https://localhost:8080/",
          "height": 400
        },
        "id": "ZoVzdN76lt_B",
        "outputId": "e35c3322-78db-4f5d-e573-d56a2af2a129"
      },
      "source": [
        "data_without_nan = data_without_nan.loc[(data_without_nan[\"Min degree\"] == \"bachelor's\") & (data_without_nan.Sex != \"A\")]\n",
        "sns.relplot(data=data_without_nan, x=\"Year\", y=\"Total\", hue=\"Sex\", kind=\"line\")"
      ],
      "execution_count": null,
      "outputs": [
        {
          "output_type": "execute_result",
          "data": {
            "text/plain": [
              "<seaborn.axisgrid.FacetGrid at 0x7f1576d4cd30>"
            ]
          },
          "metadata": {
            "tags": []
          },
          "execution_count": 34
        },
        {
          "output_type": "display_data",
          "data": {
            "image/png": "[encoded data removed]",
            "text/plain": [
              "<Figure size 404.625x360 with 1 Axes>"
            ]
          },
          "metadata": {
            "tags": [],
            "needs_background": "light"
          }
        }
      ]
    },
    {
      "cell_type": "markdown",
      "metadata": {
        "id": "zCXNLsPSned7"
      },
      "source": [
        "Podemos notar la ausencia de datos rápidamente."
      ]
    },
    {
      "cell_type": "markdown",
      "metadata": {
        "id": "SmKNNTeDqMRW"
      },
      "source": [
        "# Bonus: Treemaps \n",
        "\n",
        "Si tienes tiempo, intenta una  ́ultima grááfica (túú elige el/los atributos que quieras explorar de esta base de datos) utilizando gráficos de rectángulo (en inglés Treemaps). Para esta parte necesitas instalar un paquete de python llamado squarify. Para ver el funcionamiento báásico intenta el siguiente código:"
      ]
    },
    {
      "cell_type": "code",
      "metadata": {
        "id": "v7bwISEDm99A",
        "colab": {
          "base_uri": "https://localhost:8080/",
          "height": 248
        },
        "outputId": "17e080c1-3d24-45da-9690-2201c30f2acd"
      },
      "source": [
        "import matplotlib\n",
        "import matplotlib.pyplot as plt\n",
        "import squarify\n",
        "\n",
        "squarify.plot (sizes = [9, 4, 25, 49, 30])\n",
        "label = [\"A\", \"E\", \"I\", \"O\", \"U\"]\n",
        "color = [\"red\", \"green\", \"blue\", \"pink\", \"grey\"]\n",
        "\n",
        "alpha = 0.3\n",
        "plt.axis(\"off\")\n",
        "plt.show()"
      ],
      "execution_count": null,
      "outputs": [
        {
          "output_type": "display_data",
          "data": {
            "image/png": "[encoded data removed]",
            "text/plain": [
              "<Figure size 432x288 with 1 Axes>"
            ]
          },
          "metadata": {
            "tags": [],
            "needs_background": "light"
          }
        }
      ]
    },
    {
      "cell_type": "code",
      "metadata": {
        "colab": {
          "base_uri": "https://localhost:8080/",
          "height": 248
        },
        "id": "kclLiak-r8au",
        "outputId": "1ee2924c-78cc-4eb7-842f-f1406c18fd8a"
      },
      "source": [
        "valores = [19, 10, 17, 8, 25]\n",
        "mapaDeColor = matplotlib.cm.Blues\n",
        "norma = matplotlib.colors.Normalize(vmin=min(valores), vmax=max(valores))\n",
        "colores = [mapaDeColor(norma(valor)) for valor in valores]\n",
        "squarify.plot(sizes=valores,color=colores,alpha=0.4, label=[str(valor) for valor in valores])\n",
        "plt.axis(\"off\")\n",
        "plt.show()"
      ],
      "execution_count": null,
      "outputs": [
        {
          "output_type": "display_data",
          "data": {
            "image/png": "[encoded data removed]",
            "text/plain": [
              "<Figure size 432x288 with 1 Axes>"
            ]
          },
          "metadata": {
            "tags": [],
            "needs_background": "light"
          }
        }
      ]
    },
    {
      "cell_type": "code",
      "metadata": {
        "colab": {
          "base_uri": "https://localhost:8080/"
        },
        "id": "neYtsBydtuwz",
        "outputId": "5e8f8b69-0157-4b12-8b23-3a48eb98b5c9"
      },
      "source": [
        " result = Dschool.loc[ (Dschool.Sex != \"A\")]\n",
        " labels = list(set(result[\"Min degree\"]))\n",
        " labels"
      ],
      "execution_count": null,
      "outputs": [
        {
          "output_type": "execute_result",
          "data": {
            "text/plain": [
              "[\"associate's\", 'high school', \"master's\", \"bachelor's\"]"
            ]
          },
          "metadata": {
            "tags": []
          },
          "execution_count": 38
        }
      ]
    },
    {
      "cell_type": "code",
      "metadata": {
        "colab": {
          "base_uri": "https://localhost:8080/",
          "height": 300
        },
        "id": "I99OPA_YsvOV",
        "outputId": "903c5f35-7ff8-4d40-c591-2970c9e84e35"
      },
      "source": [
        "dataAssists = Dschool.loc[(Dschool.Sex != \"A\")]\n",
        "\n",
        "norm = matplotlib.colors.Normalize(vmin=min(dataAssists.Year), vmax=max(dataAssists.Year))\n",
        "colors = [matplotlib.cm.Blues(norm(value)) for value in dataAssists.Year]\n",
        "\n",
        "fig = matplotlib.pyplot.gcf()\n",
        "fig.set_size_inches(16, 4.5)\n",
        "\n",
        "fig = plt.gcf()\n",
        "fig.set_size_inches(16, 4.5)\n",
        "\n",
        "squarify.plot(label=dataAssists.Sex,sizes=dataAssists.Hispanic, color = colors, alpha=.6)\n",
        "plt.title(\"Year, sex and hispanic\",fontsize=23,fontweight=\"bold\")\n",
        "\n",
        "plt.axis('off')\n",
        "plt.show()"
      ],
      "execution_count": null,
      "outputs": [
        {
          "output_type": "display_data",
          "data": {
            "image/png": "[encoded data removed]",
            "text/plain": [
              "<Figure size 1152x324 with 1 Axes>"
            ]
          },
          "metadata": {
            "tags": [],
            "needs_background": "light"
          }
        }
      ]
    },
    {
      "cell_type": "markdown",
      "metadata": {
        "id": "wdHcU_aSwFjk"
      },
      "source": [
        "> Siento que esta librería es menos intuitiva que seaborn"
      ]
    },
    {
      "cell_type": "code",
      "metadata": {
        "id": "lZanotPcuJJt"
      },
      "source": [
        ""
      ],
      "execution_count": null,
      "outputs": []
    }
  ]
}