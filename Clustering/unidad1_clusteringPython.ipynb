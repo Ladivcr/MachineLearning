{
  "nbformat": 4,
  "nbformat_minor": 0,
  "metadata": {
    "kernelspec": {
      "display_name": "Python 3",
      "language": "python",
      "name": "python3"
    },
    "language_info": {
      "codemirror_mode": {
        "name": "ipython",
        "version": 3
      },
      "file_extension": ".py",
      "mimetype": "text/x-python",
      "name": "python",
      "nbconvert_exporter": "python",
      "pygments_lexer": "ipython3",
      "version": "3.7.6"
    },
    "colab": {
      "name": "unidad1_clusteringPython.ipynb",
      "provenance": [],
      "collapsed_sections": []
    }
  },
  "cells": [
    {
      "cell_type": "markdown",
      "metadata": {
        "id": "6zclf-fnXmn5"
      },
      "source": [
        "En esta práctica vamos a ver los puntos básicos para desarrollar tareas de clustering en Python, usando los métodos que estudiamos durante la semana: clustering jerárquico aglomerativo y k-means. \n",
        "\n",
        "Para poder desarrollar los ejercicios es necesario tener las bibliotecas: numpy, sklearn y matplotlib. "
      ]
    },
    {
      "cell_type": "markdown",
      "metadata": {
        "id": "hPPAcS3iXmn-"
      },
      "source": [
        "# 1. Clustering jerárquico\n",
        "\n",
        "Empecemos con un ejemplo muy pequeño para ir viendo cómo funciona el algoritmo de Python.  Considera la siguiente colección de 5 puntos en $R^2$, que se han etiquetado del 0 al 4. \n",
        "\n",
        "![fig_toyExample0.png](attachment:fig_toyExample0.png)\n",
        "\n",
        "Imagínate que decidimos agrupar los puntos usando clustering jerárquico aglomerativo con distancia euclideana y _single link_. Como al inicio cada punto es su propio cluster, tenemos clusters del 0 al 4. Al nuevo grupo lo llamamos 5. \n",
        "![fig_toyExample1.png](attachment:fig_toyExample1.png)\n",
        "\n",
        "Al final tenemos 8 grupos. El grupo 8 es el que contiene a todos los puntos. \n",
        "![fig_toyExample4.png](attachment:fig_toyExample4.png)\n",
        "\n",
        "Ahora vamos a desarrollar este ejemplo en Python. Empezamos importando bibliotecas y declarando los puntos del mismísimo ejemplo. "
      ]
    },
    {
      "cell_type": "code",
      "metadata": {
        "id": "JpvRjc42XmoC"
      },
      "source": [
        "import numpy as np\n",
        "import matplotlib.pyplot as plt\n",
        "import scipy.cluster.hierarchy as sch \n",
        "import pandas as pd\n",
        "\n",
        "x = [-2,-2,0,2,3.5]\n",
        "y = [-1.5,-1,-1,1,1]"
      ],
      "execution_count": null,
      "outputs": []
    },
    {
      "cell_type": "markdown",
      "metadata": {
        "id": "ZI8P8MQpXmoW"
      },
      "source": [
        "El comando que usamos para agrupar los puntos  es **linkage**. La entrada es una matriz $n\\times m$ que contiene $n$ puntos en $R^m$. En este caso, necesitamos concatenar nuestros vectores para que estén en el formato correcto. "
      ]
    },
    {
      "cell_type": "code",
      "metadata": {
        "id": "Z56CDiLGXmoZ",
        "colab": {
          "base_uri": "https://localhost:8080/",
          "height": 104
        },
        "outputId": "3908bcbd-b79a-46dc-c394-caa2d49ac396"
      },
      "source": [
        "A = np.column_stack((x,y)) #Estos comandos para concatenar bloques\n",
        "                           #son super útiles (hstack,vstack).Sépanlos!\n",
        "print(A) "
      ],
      "execution_count": null,
      "outputs": [
        {
          "output_type": "stream",
          "text": [
            "[[-2.  -1.5]\n",
            " [-2.  -1. ]\n",
            " [ 0.  -1. ]\n",
            " [ 2.   1. ]\n",
            " [ 3.5  1. ]]\n"
          ],
          "name": "stdout"
        }
      ]
    },
    {
      "cell_type": "code",
      "metadata": {
        "id": "Jxvyp4bmXmol",
        "colab": {
          "base_uri": "https://localhost:8080/",
          "height": 34
        },
        "outputId": "9876e24b-9cfc-4de3-8b45-6d5d1367068b"
      },
      "source": [
        "H = sch.linkage(A, method='single', metric='euclidean')\n",
        "H.shape"
      ],
      "execution_count": null,
      "outputs": [
        {
          "output_type": "execute_result",
          "data": {
            "text/plain": [
              "(4, 4)"
            ]
          },
          "metadata": {
            "tags": []
          },
          "execution_count": 16
        }
      ]
    },
    {
      "cell_type": "markdown",
      "metadata": {
        "id": "8c_UedP0Xmou"
      },
      "source": [
        "Primero, nota los parámetros de entrada. El comando tiene también las opciones para método: \"average\", \"complete\", \"centroid\" y \"ward\", entre otras. En cuanto a *metric* es posible usar otras opciones predefinidas o, incluso, usar una función definida por el usuario; esto le va a dar mucha flexibilidad al algoritmo. Finalmente, observemos que la salida del algoritmo es una matriz 4 x 4; vamos a ver qué entradas tiene. "
      ]
    },
    {
      "cell_type": "code",
      "metadata": {
        "id": "naYBGYg8Xmow",
        "colab": {
          "base_uri": "https://localhost:8080/",
          "height": 86
        },
        "outputId": "3b504462-0b67-46cb-ff2a-f65549c6150c"
      },
      "source": [
        "print(H)"
      ],
      "execution_count": null,
      "outputs": [
        {
          "output_type": "stream",
          "text": [
            "[[0.         1.         0.5        2.        ]\n",
            " [3.         4.         1.5        2.        ]\n",
            " [2.         5.         2.         3.        ]\n",
            " [6.         7.         2.82842712 5.        ]]\n"
          ],
          "name": "stdout"
        }
      ]
    },
    {
      "cell_type": "markdown",
      "metadata": {
        "id": "XBh_yAB2Xmo6"
      },
      "source": [
        "La salida de **linkage** para $n$ instancias siempre es una matriz de tamaño $(n-1)\\times 4$.\n",
        "\n",
        "**Columnas 0 y 1:** indican cuál clúster se combinó con cuál. Nota que, tal como vimos en la figura, al principio los clústers corresponden a puntos, pero en la tercera fila vemos que se combinaron los clústers 2 y 5 a pesar de que no hay un punto 5 en los datos de entrada. La nomenclatura que utiliza esta implementación sigue la misma idea que nuestro dibujo: el cluster que se forma en la iteración $i$ recibe el identificador $n + i$. Así, vemos en esta matriz que el cluster 5 es el que se forma en la primera iteración al combinar los puntos 0 y 1 (o sea, el cluster 5 de nuestro dibujo). \n",
        "\n",
        "**Columna 2:** Indica la distancia que había en entre los clústers combinados. \n",
        "\n",
        "**Columna 3:** Indica cuántos puntos hay en este momento en el clúster recién formado.\n",
        "\n",
        "\n",
        "Ahora sólo falta graficar esta información usando el comando **dendrogram**.\n"
      ]
    },
    {
      "cell_type": "code",
      "metadata": {
        "id": "ss9-mpzpXmo7",
        "colab": {
          "base_uri": "https://localhost:8080/",
          "height": 268
        },
        "outputId": "9671827e-cd11-41d3-8608-304d47d9a9a4"
      },
      "source": [
        "sch.dendrogram(H)\n",
        "plt.show()"
      ],
      "execution_count": null,
      "outputs": [
        {
          "output_type": "display_data",
          "data": {
            "image/png": "[encoded data removed]",
            "text/plain": [
              "<Figure size 432x288 with 1 Axes>"
            ]
          },
          "metadata": {
            "tags": [],
            "needs_background": "light"
          }
        }
      ]
    },
    {
      "cell_type": "markdown",
      "metadata": {
        "id": "6xpBmBtOXmpG"
      },
      "source": [
        "En este caso la figura es muy clara porque sólo tenemos 5 puntos. Revisa la documentación en el sitio de scipy para explorar las opciones que tiene esta función. Las opciones incluyen: truncar el dendrograma a determinado nivel, orientarlo horizontalmente y modificar el color. \n",
        "\n",
        "Link: https://docs.scipy.org/doc/scipy/reference/generated/scipy.cluster.hierarchy.dendrogram.html?highlight=dendrogram#scipy.cluster.hierarchy.dendrogram"
      ]
    },
    {
      "cell_type": "markdown",
      "metadata": {
        "id": "k5jX8x5YXmpI"
      },
      "source": [
        "### Ejercicio 1:\n",
        "<div class=\"alert-info\">\n",
        "Redibuja el dendrograma anterior para esos mismos datos pero ahora usando el método \"complete link\" y \"average link\".\n",
        "\n",
        "</div>\n"
      ]
    },
    {
      "cell_type": "code",
      "metadata": {
        "id": "iii3MFaLXmpK",
        "colab": {
          "base_uri": "https://localhost:8080/",
          "height": 104
        },
        "outputId": "560b92bc-ca04-4d36-d971-07ec9c5c75fb"
      },
      "source": [
        "# Declaramos nuestros puntos primero\n",
        "x = [-2,-2,0,2,3.5]\n",
        "y = [-1.5,-1,-1,1,1]\n",
        "# Los unimos para formar lo que serian las coordenadas\n",
        "B = np.column_stack((x,y))\n",
        "\n",
        "print(B)"
      ],
      "execution_count": null,
      "outputs": [
        {
          "output_type": "stream",
          "text": [
            "[[-2.  -1.5]\n",
            " [-2.  -1. ]\n",
            " [ 0.  -1. ]\n",
            " [ 2.   1. ]\n",
            " [ 3.5  1. ]]\n"
          ],
          "name": "stdout"
        }
      ]
    },
    {
      "cell_type": "code",
      "metadata": {
        "id": "ookwKrNWXmpS",
        "colab": {
          "base_uri": "https://localhost:8080/",
          "height": 34
        },
        "outputId": "994f1a93-7d57-47fe-8ced-5ad16c80ab33"
      },
      "source": [
        "I = sch.linkage(B, method='complete', metric='euclidean') # Efectuamos el clustering con \"complete link\"\n",
        "I.shape"
      ],
      "execution_count": null,
      "outputs": [
        {
          "output_type": "execute_result",
          "data": {
            "text/plain": [
              "(4, 4)"
            ]
          },
          "metadata": {
            "tags": []
          },
          "execution_count": 20
        }
      ]
    },
    {
      "cell_type": "code",
      "metadata": {
        "id": "h3BHhfzyXmpa",
        "colab": {
          "base_uri": "https://localhost:8080/",
          "height": 268
        },
        "outputId": "342c132b-69ef-4e22-8f71-7b065513adc4"
      },
      "source": [
        "# ANTES DE VER EL RESULTADO Y DE SEGUIR CON EL EJERCICIO LO VOY A HACER A MANO PARA  PRÁCTICAR EL ALGORITMO\n",
        "sch.dendrogram(I)\n",
        "plt.show()"
      ],
      "execution_count": null,
      "outputs": [
        {
          "output_type": "display_data",
          "data": {
            "image/png": "[encoded data removed]",
            "text/plain": [
              "<Figure size 432x288 with 1 Axes>"
            ]
          },
          "metadata": {
            "tags": [],
            "needs_background": "light"
          }
        }
      ]
    },
    {
      "cell_type": "code",
      "metadata": {
        "id": "wnn5S0QK-jrZ",
        "colab": {
          "base_uri": "https://localhost:8080/",
          "height": 34
        },
        "outputId": "aa3e65cb-5114-4caf-cddb-23c84275da7f"
      },
      "source": [
        "I = sch.linkage(B, method='average', metric='euclidean') # Efectuamos el clustering con \"average link\"\n",
        "I.shape"
      ],
      "execution_count": null,
      "outputs": [
        {
          "output_type": "execute_result",
          "data": {
            "text/plain": [
              "(4, 4)"
            ]
          },
          "metadata": {
            "tags": []
          },
          "execution_count": 22
        }
      ]
    },
    {
      "cell_type": "code",
      "metadata": {
        "id": "-H-bWO8M-vsJ",
        "colab": {
          "base_uri": "https://localhost:8080/",
          "height": 268
        },
        "outputId": "48ed068a-583c-4307-a6cf-d451adefb301"
      },
      "source": [
        "\n",
        "sch.dendrogram(I)\n",
        "plt.show()"
      ],
      "execution_count": null,
      "outputs": [
        {
          "output_type": "display_data",
          "data": {
            "image/png": "[encoded data removed]",
            "text/plain": [
              "<Figure size 432x288 with 1 Axes>"
            ]
          },
          "metadata": {
            "tags": [],
            "needs_background": "light"
          }
        }
      ]
    },
    {
      "cell_type": "markdown",
      "metadata": {
        "id": "5rPrExQfXmpi"
      },
      "source": [
        "# K-means\n",
        "\n",
        "El uso de K-means en Python es más o menos directo. Vamos a suponer que quiero encontrar 2 grupos en el ejemplo de juguete que usamos en la sección anterior y que en este punto del laboratorio están en la matriz $A$."
      ]
    },
    {
      "cell_type": "code",
      "metadata": {
        "id": "wu8AZawhXmpj",
        "colab": {
          "base_uri": "https://localhost:8080/",
          "height": 69
        },
        "outputId": "273e20ae-1294-477d-91db-78c9551503f1"
      },
      "source": [
        "import sklearn.cluster as skc\n",
        "\n",
        "resultado = skc.KMeans(n_clusters=2,init='random',max_iter=200).fit(A)\n",
        "resultado"
      ],
      "execution_count": null,
      "outputs": [
        {
          "output_type": "execute_result",
          "data": {
            "text/plain": [
              "KMeans(algorithm='auto', copy_x=True, init='random', max_iter=200, n_clusters=2,\n",
              "       n_init=10, n_jobs=None, precompute_distances='auto', random_state=None,\n",
              "       tol=0.0001, verbose=0)"
            ]
          },
          "metadata": {
            "tags": []
          },
          "execution_count": 24
        }
      ]
    },
    {
      "cell_type": "markdown",
      "metadata": {
        "id": "Bi4biB6jXmps"
      },
      "source": [
        "KMeans tiene algunos otros parámetros de entrada que puedes consultar en la documentación. Algo **importante** cuando uses este método de sklearn es que te cerciores de que cada FILA representa una instancia, y cada columna un atributo. O sea, se espera que la matriz $A$ siempre sea de tamaño *(númeroDePuntos x númeroDeAtributos)*.\n",
        "\n",
        "Lo que queda guardado en *resultado* son cuatro cosas:\n",
        "- **cluster_centers_** que son los centroides de tu agrupamiento.\n",
        "- **labels_** que es un arreglo de $n\\times 1$ indicando a qué grupo pertenece cada punto en tus datos\n",
        "- **inertia_** que nos dice el valor que se alcanzó en la función objetivo\n",
        "- **n_iter_** que nos dice cuántas iteraciones necesitó el algoritmo para converger (o detenerse)"
      ]
    },
    {
      "cell_type": "code",
      "metadata": {
        "id": "AMUkTY5hXmpu",
        "colab": {
          "base_uri": "https://localhost:8080/",
          "height": 34
        },
        "outputId": "84a41150-470e-4a04-edf1-7fb8b893ad79"
      },
      "source": [
        "resultado.labels_, resultado.n_iter_"
      ],
      "execution_count": null,
      "outputs": [
        {
          "output_type": "execute_result",
          "data": {
            "text/plain": [
              "(array([0, 0, 0, 1, 1], dtype=int32), 2)"
            ]
          },
          "metadata": {
            "tags": []
          },
          "execution_count": 25
        }
      ]
    },
    {
      "cell_type": "markdown",
      "metadata": {
        "id": "99W8ZiyOXmp1"
      },
      "source": [
        "# Caso de estudio: segmentación de mercado para VW\n",
        "Te acaba de contratar Volkswagen, quien te muestra el perfil de los últimos 250 clientes para cierto modelo. La información se encuentra en el archivo *clientesVW_perfilGeneral.zip*, que a su vez contiene *clientesVW_perfilGeneral.csv* y *clientesVW_atributos.txt*. \n",
        "\n",
        "Tu misión es sugerirle una segmentación de mercado, es decir, analizar los datos e identificar posibles perfiles de clientes que tienen determinado patrón. \n",
        "\n",
        "No sabes bien por dónde empezar y en la clase de minería de datos ni tan siquiera has llevado análisis exploratorio de datos. ¡¿Qué hacer?!\n",
        "\n",
        "Tip: Puedes leer directamente los datos del formato *csv* a una matriz de numpy usando \n",
        "*A = np.genfromtxt('clientesWV_perfilGeneral.csv',delimiter=',')*\n",
        "\n",
        "2. Primero, haz un dendrograma con tus datos. Muestra la figura.\n",
        "\n",
        "3. ¡Oh no! Son 250 clientes y tu dendrograma es confuso. Usa la opción *truncate_mode='level'*  (revisa la documentación! te va a faltar especificar un parámetro) para mostrar diez niveles de tu dendrograma. Muestra la figura. ¿O quizá las figuras? Ve describiendo tu razonamiento y documentando las decisiones que tomes. \n",
        "\n",
        "4. A partir de la figura, ¿cuántos grupos vas a sugerir que hay? ¿por qué? No hay una respuesta correcta pero explica la lógica que sigues para tu propuesta. \n",
        "\n",
        "5. Utilizando el $k$ que decidiste en el punto anterior, encuentra los $k$ grupos de clientes usando k-means. Utiliza los resultados para:\n",
        "\n",
        "    5a. Dar una descripción del perfil de cliente en cada grupo (justifica tu respuesta).\n",
        "\n",
        "    5b. Indicar en cuál de esos grupos debe enfocarse la compañía para darle prioridad (justifica tu respuesta).\n",
        "\n",
        "## Bonus:\n",
        "\n",
        "Si terminaste tu ejercicio y quieres puntos extra, programa kMeans para el caso bidimensional, de manera que pueda **verse** cada paso del proceso (cada grupo de un color, los centroides modificándose). La salida de tu código debe ser, además de la predicción para cada instancia, un gif que muestre el proceso. \n",
        "\n",
        "Tu código no tiene necesariamente tiene que ser eficiente, pero sí tiene que ser tuyo. \n",
        "\n",
        "\n",
        "\n",
        "\n",
        "\n",
        "\n",
        "\n"
      ]
    },
    {
      "cell_type": "code",
      "metadata": {
        "id": "Z6a9taODXmp3",
        "colab": {
          "base_uri": "https://localhost:8080/",
          "height": 139
        },
        "outputId": "6083c1a2-7dcd-46fb-c5fe-fd6a10dcb86e"
      },
      "source": [
        "VW_Clients = np.genfromtxt('/content/clientesVW_perfilGeneral.csv',delimiter=','); VW_Clients"
      ],
      "execution_count": null,
      "outputs": [
        {
          "output_type": "execute_result",
          "data": {
            "text/plain": [
              "array([[2., 3., 2., 5., 0., 6.],\n",
              "       [1., 2., 1., 1., 1., 3.],\n",
              "       [2., 3., 2., 3., 1., 1.],\n",
              "       ...,\n",
              "       [1., 2., 2., 3., 0., 4.],\n",
              "       [2., 3., 2., 3., 0., 6.],\n",
              "       [2., 1., 1., 5., 0., 2.]])"
            ]
          },
          "metadata": {
            "tags": []
          },
          "execution_count": 26
        }
      ]
    },
    {
      "cell_type": "code",
      "metadata": {
        "id": "cjtU4HiIXmqA",
        "colab": {
          "base_uri": "https://localhost:8080/",
          "height": 34
        },
        "outputId": "fe9472c9-3c20-4a95-901a-3236733ef7a4"
      },
      "source": [
        "VW_Cluster = sch.linkage(VW_Clients, method='average', metric='euclidean') # Efectuamos el clustering con \"single link\"\n",
        "VW_Cluster.shape\n",
        "#print(\"\\n\",VW_Cluster[-60:])"
      ],
      "execution_count": null,
      "outputs": [
        {
          "output_type": "execute_result",
          "data": {
            "text/plain": [
              "(249, 4)"
            ]
          },
          "metadata": {
            "tags": []
          },
          "execution_count": 27
        }
      ]
    },
    {
      "cell_type": "markdown",
      "metadata": {
        "id": "fkB7pcmPE0P5"
      },
      "source": [
        "#2.Primero, haz un dendrograma con tus datos. Muestra la figura."
      ]
    },
    {
      "cell_type": "markdown",
      "metadata": {
        "id": "6X4aEocyXmqH"
      },
      "source": [
        "He decidido usar como método \"average link\" ya que busco similitud entre los clientes, por lo tanto busco similitudes entre sus \n",
        "atributos y de esta manera poder agruparlos por un margen de parentezco. Average toma todos los atributos y los promedia por lo tanto de esta manera garantizo que se contemplan todos los atributos para agrupar X cliente con Y cliente. "
      ]
    },
    {
      "cell_type": "code",
      "metadata": {
        "id": "fGza-Ju5XmqJ",
        "colab": {
          "base_uri": "https://localhost:8080/",
          "height": 265
        },
        "outputId": "3ad0ea7b-459e-4651-dc42-f8eff879b434"
      },
      "source": [
        "sch.dendrogram(VW_Cluster)\n",
        "plt.show()"
      ],
      "execution_count": null,
      "outputs": [
        {
          "output_type": "display_data",
          "data": {
            "image/png": "[encoded data removed]",
            "text/plain": [
              "<Figure size 432x288 with 1 Axes>"
            ]
          },
          "metadata": {
            "tags": [],
            "needs_background": "light"
          }
        }
      ]
    },
    {
      "cell_type": "markdown",
      "metadata": {
        "id": "TAqYwSYPFFdE"
      },
      "source": [
        "#3.¡Oh no! Son 250 clientes y tu dendrograma es confuso. Usa la opción truncate_mode='level' (revisa la documentación! te va a faltar especificar un parámetro) para mostrar diez niveles de tu dendrograma. Muestra la figura. ¿O quizá las figuras? Ve describiendo tu razonamiento y documentando las decisiones que tomes. "
      ]
    },
    {
      "cell_type": "code",
      "metadata": {
        "id": "cWxMSZg3XmqR",
        "colab": {
          "base_uri": "https://localhost:8080/",
          "height": 265
        },
        "outputId": "c80cf590-0f7c-4304-f3d7-8a49153677dd"
      },
      "source": [
        "sch.dendrogram(VW_Cluster, truncate_mode=\"level\", p=10)\n",
        "plt.show()"
      ],
      "execution_count": null,
      "outputs": [
        {
          "output_type": "display_data",
          "data": {
            "image/png": "[encoded data removed]",
            "text/plain": [
              "<Figure size 432x288 with 1 Axes>"
            ]
          },
          "metadata": {
            "tags": [],
            "needs_background": "light"
          }
        }
      ]
    },
    {
      "cell_type": "markdown",
      "metadata": {
        "id": "-zJ9KF5mFfo6"
      },
      "source": [
        "#4.A partir de la figura, ¿cuántos grupos vas a sugerir que hay? ¿por qué? No hay una respuesta correcta pero explica la lógica que sigues para tu propuesta. "
      ]
    },
    {
      "cell_type": "code",
      "metadata": {
        "id": "gnBd7N0mYzJn",
        "colab": {
          "base_uri": "https://localhost:8080/",
          "height": 416
        },
        "outputId": "3c822486-f39e-4888-ae31-9e39ee52cb07"
      },
      "source": [
        "VW_Cluster[:,3], (len(VW_Cluster[:,3])) \n",
        "# Todos los puntos que hay en el cluster conforme se va formando el cluster que encierra a todos los clusters"
      ],
      "execution_count": null,
      "outputs": [
        {
          "output_type": "execute_result",
          "data": {
            "text/plain": [
              "(array([  2.,   2.,   2.,   2.,   2.,   2.,   2.,   2.,   2.,   2.,   2.,\n",
              "          2.,   2.,   3.,   4.,   2.,   2.,   2.,   3.,   2.,   2.,   2.,\n",
              "          2.,   2.,   3.,   2.,   2.,   3.,   2.,   2.,   3.,   2.,   3.,\n",
              "          2.,   2.,   3.,   2.,   2.,   2.,   3.,   2.,   2.,   2.,   2.,\n",
              "          2.,   2.,   3.,   3.,   2.,   2.,   3.,   4.,   2.,   2.,   5.,\n",
              "          2.,   2.,   2.,   2.,   2.,   2.,   2.,   2.,   3.,   2.,   2.,\n",
              "          4.,   3.,   2.,   2.,   2.,   2.,   3.,   2.,   2.,   4.,   2.,\n",
              "          2.,   2.,   5.,   2.,   3.,   6.,   2.,   2.,   4.,   3.,   3.,\n",
              "          4.,   2.,   2.,   2.,   2.,   2.,   2.,   2.,   4.,   3.,   3.,\n",
              "          4.,   3.,   4.,   4.,   3.,   2.,   3.,   2.,   3.,   3.,   2.,\n",
              "          2.,   5.,   2.,   2.,   2.,   2.,   4.,   3.,   2.,  10.,   5.,\n",
              "          4.,   4.,   4.,   4.,   4.,   4.,   4.,   5.,   6.,   3.,   4.,\n",
              "          5.,   4.,   4.,   3.,   3.,   5.,   6.,   3.,   4.,   3.,   3.,\n",
              "          4.,   3.,   3.,   3.,   3.,   3.,   3.,   7.,   7.,   8.,   8.,\n",
              "          6.,   4.,   5.,   7.,   5.,   7.,   9.,  10.,   4.,   6.,   4.,\n",
              "          6.,  12.,   2.,   2.,   2.,   2.,   2.,   2.,   2.,   2.,   3.,\n",
              "          6.,   5.,  14.,   8.,   4.,   4.,   4.,   9.,  12.,   8.,   3.,\n",
              "          3.,   3.,   3.,   3.,   7.,  13.,   4.,  14.,   7.,   9.,  10.,\n",
              "          6.,   7.,   8.,   4.,   6.,  11.,  11.,  14.,  13.,  12.,   5.,\n",
              "          6.,   6.,   9.,   9.,   4.,   6.,  15.,  14.,  21.,   8.,  16.,\n",
              "         14.,   5.,   2.,  25.,  26.,  13.,  19.,  26.,  31.,  11.,  19.,\n",
              "         25.,  17.,  17.,  36.,  25.,  30.,  48.,  27.,  39.,  25.,  56.,\n",
              "         38.,  55.,  73.,  66., 129., 121., 250.]), 249)"
            ]
          },
          "metadata": {
            "tags": []
          },
          "execution_count": 30
        }
      ]
    },
    {
      "cell_type": "code",
      "metadata": {
        "id": "QNjgCpIDFvA2",
        "colab": {
          "base_uri": "https://localhost:8080/",
          "height": 34
        },
        "outputId": "d5f6ed6c-53b7-4352-bfc7-0529c11299a8"
      },
      "source": [
        "unique_VW_Cluster = list(set(VW_Cluster[:,3]))\n",
        "len(unique_VW_Cluster)#, unique_VW_Cluster"
      ],
      "execution_count": null,
      "outputs": [
        {
          "output_type": "execute_result",
          "data": {
            "text/plain": [
              "34"
            ]
          },
          "metadata": {
            "tags": []
          },
          "execution_count": 31
        }
      ]
    },
    {
      "cell_type": "markdown",
      "metadata": {
        "id": "ka6VOKDDPwEq"
      },
      "source": [
        "Tengo dos respuestas para esta pregunta, las explicaré ambas y al final por qué tomo una en lugar de otra. \n",
        "\n",
        "1. Razonamiento número 1:\n",
        "A partir de ver el dendograma resultante y los diferentes colores asignados para identificar grupos similares, \"contando\" podemos observar que hay cinco grupos (5 colores). Así mismo recordemos que estamos trabajando únicamente con 250 registros y por el tipo de problema que estamos resolviendo (venta de autos) podemos dar por hecho que no tendremos demasiados grupos dado que no todos pueden costearse un auto nuevo así mismo, es necesario mencionar que estamos trabajando con seis atributos que nos describen cada registro de una manera no muy detallada. Por lo que 5 grupos suena bastante razonable. \n",
        "\n",
        "2. Razonamiento número 2: \n",
        "Recordemos que en la matriz obtenida con linkage, la columna número 3 indica \n",
        "cuantos puntos hay en ese momento en el cluster formado, recordemos que los puntos comienzan siendo sus propios clusters y se van emparejando con su más cercano, formando al final de la iteración un único cluster compuesto de sub clusters. Por lo que si tomamos la 3ra columna, y aplicamos \"set\" para eliminar duplicados, obtenemos el tamaño de cada uno de los sub clusters que hay dentro del cluster final que engloba a todos. Por lo que si convertimos este \"set\" a \"list\" podemos aplicar \"len\" y obtener la longitud que lo que nos diría es una aproximación de todos los grupos que conforman nuestro cluster final, y digo aproximación porque al aplicar set para eliminar duplicados perdímos algunos subcobjuntos. \n",
        "\n",
        "**Elección de razonamiento**\n",
        "En el razonamiento dos estamos contemplando los subconjuntos más pequeños, es decir, esos subconjuntos compuestos por dos clientes pero recordemos que lo que queremos es segmentar a nuestros clientes, es decir agruparlos por caracteristicas similares por lo que he de escoger que hay 5 grupos y en estos cinco grupos que son los representativos encontramos ya esos subgrupos de dos personas agrupados en su respectivo grupo con caracteristicas más afines. \n",
        "\n",
        "**R.** 5 grupos \n"
      ]
    },
    {
      "cell_type": "markdown",
      "metadata": {
        "id": "fKjSBI-riYfH"
      },
      "source": [
        "#5.Utilizando el k que decidiste en el punto anterior, encuentra los k grupos de clientes usando k-means. Utiliza los resultados para:\n",
        "\n",
        "5a. Dar una descripción del perfil de cliente en cada grupo (justifica tu respuesta).\n",
        "\n",
        "5b. Indicar en cuál de esos grupos debe enfocarse la compañía para darle prioridad (justifica tu respuesta).\n"
      ]
    },
    {
      "cell_type": "code",
      "metadata": {
        "id": "tlM8DljOQ8HR",
        "colab": {
          "base_uri": "https://localhost:8080/",
          "height": 206
        },
        "outputId": "6c3d9a30-3bd5-4450-dfad-a33697276848"
      },
      "source": [
        "clients = pd.read_csv('/content/clientesVW_perfilGeneral.csv')\n",
        "clients.columns = [\"Sexo\", \"Estado_civil\", \"¿primera_vez_que_compra_auto?\", \"Edad\",\"Hijos\" ,\"Salario\"]\n",
        "#I. Sexo: 1. Hombre 2. Mujer\n",
        "#II. Estado civil: 1. Casado 2. Unión libre 3. Soltero\n",
        "#III. ¿Primera vez que compra un auto? 1. Si 2. No\n",
        "#IV. Edad por categorías: 1. <25 2. 25-29 3. 30-34 4. 35-39 5. 40-44 6  >44\n",
        "#V. Categorías relativas a hijos 0. 0 1. 1 2. Más de 1\n",
        "#VI. Categorías relativas al salario (percepción mensual en miles de pesos) 1. < 10 2. 10-15 3. 15-20 4. 20-25 5. 25-30 6. > 30\n",
        "clients.head(5)\n"
      ],
      "execution_count": null,
      "outputs": [
        {
          "output_type": "execute_result",
          "data": {
            "text/html": [
              "<div>\n",
              "<style scoped>\n",
              "    .dataframe tbody tr th:only-of-type {\n",
              "        vertical-align: middle;\n",
              "    }\n",
              "\n",
              "    .dataframe tbody tr th {\n",
              "        vertical-align: top;\n",
              "    }\n",
              "\n",
              "    .dataframe thead th {\n",
              "        text-align: right;\n",
              "    }\n",
              "</style>\n",
              "<table border=\"1\" class=\"dataframe\">\n",
              "  <thead>\n",
              "    <tr style=\"text-align: right;\">\n",
              "      <th></th>\n",
              "      <th>Sexo</th>\n",
              "      <th>Estado_civil</th>\n",
              "      <th>¿primera_vez_que_compra_auto?</th>\n",
              "      <th>Edad</th>\n",
              "      <th>Hijos</th>\n",
              "      <th>Salario</th>\n",
              "    </tr>\n",
              "  </thead>\n",
              "  <tbody>\n",
              "    <tr>\n",
              "      <th>0</th>\n",
              "      <td>1</td>\n",
              "      <td>2</td>\n",
              "      <td>1</td>\n",
              "      <td>1</td>\n",
              "      <td>1</td>\n",
              "      <td>3</td>\n",
              "    </tr>\n",
              "    <tr>\n",
              "      <th>1</th>\n",
              "      <td>2</td>\n",
              "      <td>3</td>\n",
              "      <td>2</td>\n",
              "      <td>3</td>\n",
              "      <td>1</td>\n",
              "      <td>1</td>\n",
              "    </tr>\n",
              "    <tr>\n",
              "      <th>2</th>\n",
              "      <td>1</td>\n",
              "      <td>3</td>\n",
              "      <td>2</td>\n",
              "      <td>5</td>\n",
              "      <td>0</td>\n",
              "      <td>3</td>\n",
              "    </tr>\n",
              "    <tr>\n",
              "      <th>3</th>\n",
              "      <td>2</td>\n",
              "      <td>1</td>\n",
              "      <td>1</td>\n",
              "      <td>5</td>\n",
              "      <td>2</td>\n",
              "      <td>4</td>\n",
              "    </tr>\n",
              "    <tr>\n",
              "      <th>4</th>\n",
              "      <td>2</td>\n",
              "      <td>1</td>\n",
              "      <td>1</td>\n",
              "      <td>2</td>\n",
              "      <td>1</td>\n",
              "      <td>4</td>\n",
              "    </tr>\n",
              "  </tbody>\n",
              "</table>\n",
              "</div>"
            ],
            "text/plain": [
              "   Sexo  Estado_civil  ¿primera_vez_que_compra_auto?  Edad  Hijos  Salario\n",
              "0     1             2                              1     1      1        3\n",
              "1     2             3                              2     3      1        1\n",
              "2     1             3                              2     5      0        3\n",
              "3     2             1                              1     5      2        4\n",
              "4     2             1                              1     2      1        4"
            ]
          },
          "metadata": {
            "tags": []
          },
          "execution_count": 32
        }
      ]
    },
    {
      "cell_type": "code",
      "metadata": {
        "id": "sXRfNTqN5KhW",
        "colab": {
          "base_uri": "https://localhost:8080/",
          "height": 278
        },
        "outputId": "827ef784-3b22-47b1-a8ae-cb065eb61890"
      },
      "source": [
        "resultado = skc.KMeans(n_clusters=5,init='random',max_iter=600).fit(clients)\n",
        "resultado, resultado.labels_"
      ],
      "execution_count": null,
      "outputs": [
        {
          "output_type": "execute_result",
          "data": {
            "text/plain": [
              "(KMeans(algorithm='auto', copy_x=True, init='random', max_iter=600, n_clusters=5,\n",
              "        n_init=10, n_jobs=None, precompute_distances='auto', random_state=None,\n",
              "        tol=0.0001, verbose=0),\n",
              " array([1, 1, 3, 2, 0, 0, 4, 1, 0, 3, 4, 3, 0, 3, 2, 1, 1, 2, 0, 2, 2, 2,\n",
              "        1, 3, 3, 4, 3, 0, 2, 3, 4, 4, 1, 1, 1, 4, 1, 0, 0, 4, 0, 0, 1, 4,\n",
              "        3, 1, 3, 2, 0, 0, 3, 3, 0, 2, 1, 0, 3, 3, 0, 0, 4, 4, 4, 2, 3, 3,\n",
              "        4, 0, 1, 1, 3, 4, 3, 0, 0, 4, 2, 0, 1, 3, 1, 2, 0, 3, 2, 0, 0, 1,\n",
              "        1, 0, 1, 2, 1, 2, 0, 0, 3, 3, 2, 3, 0, 3, 3, 0, 1, 4, 3, 1, 1, 3,\n",
              "        4, 4, 4, 3, 1, 1, 2, 3, 0, 3, 4, 2, 0, 1, 1, 1, 4, 0, 3, 0, 2, 4,\n",
              "        1, 2, 0, 1, 1, 3, 3, 2, 1, 4, 2, 3, 3, 2, 3, 4, 1, 4, 1, 2, 0, 1,\n",
              "        3, 0, 4, 3, 3, 2, 3, 1, 0, 1, 3, 3, 3, 0, 4, 1, 2, 1, 2, 1, 0, 0,\n",
              "        0, 3, 0, 3, 1, 2, 0, 2, 2, 1, 1, 0, 4, 3, 1, 1, 2, 0, 3, 1, 0, 3,\n",
              "        0, 4, 4, 0, 0, 4, 0, 3, 3, 3, 2, 1, 1, 3, 2, 4, 1, 2, 2, 0, 4, 2,\n",
              "        2, 2, 0, 2, 4, 4, 0, 2, 0, 1, 3, 0, 4, 1, 3, 1, 3, 1, 0, 1, 3, 1,\n",
              "        1, 4, 2, 3, 0, 0, 3], dtype=int32))"
            ]
          },
          "metadata": {
            "tags": []
          },
          "execution_count": 33
        }
      ]
    },
    {
      "cell_type": "code",
      "metadata": {
        "id": "wYz5sdcmobPD",
        "colab": {
          "base_uri": "https://localhost:8080/",
          "height": 206
        },
        "outputId": "fa73d53d-e168-4f86-e049-e5ccbe231e83"
      },
      "source": [
        "cluster_result = list(resultado.labels_)\n",
        "#len(aux) >> 249 que es igual al número de registros que tengo \n",
        "# Una vez obtenidos los clusters, añadimos una nueva columna a nuestro dataframe para identificar a que cluster\n",
        "# pertenece cada registro\n",
        "clients = clients.assign(Cluster_group = cluster_result)\n",
        "clients.head()"
      ],
      "execution_count": null,
      "outputs": [
        {
          "output_type": "execute_result",
          "data": {
            "text/html": [
              "<div>\n",
              "<style scoped>\n",
              "    .dataframe tbody tr th:only-of-type {\n",
              "        vertical-align: middle;\n",
              "    }\n",
              "\n",
              "    .dataframe tbody tr th {\n",
              "        vertical-align: top;\n",
              "    }\n",
              "\n",
              "    .dataframe thead th {\n",
              "        text-align: right;\n",
              "    }\n",
              "</style>\n",
              "<table border=\"1\" class=\"dataframe\">\n",
              "  <thead>\n",
              "    <tr style=\"text-align: right;\">\n",
              "      <th></th>\n",
              "      <th>Sexo</th>\n",
              "      <th>Estado_civil</th>\n",
              "      <th>¿primera_vez_que_compra_auto?</th>\n",
              "      <th>Edad</th>\n",
              "      <th>Hijos</th>\n",
              "      <th>Salario</th>\n",
              "      <th>Cluster_group</th>\n",
              "    </tr>\n",
              "  </thead>\n",
              "  <tbody>\n",
              "    <tr>\n",
              "      <th>0</th>\n",
              "      <td>1</td>\n",
              "      <td>2</td>\n",
              "      <td>1</td>\n",
              "      <td>1</td>\n",
              "      <td>1</td>\n",
              "      <td>3</td>\n",
              "      <td>1</td>\n",
              "    </tr>\n",
              "    <tr>\n",
              "      <th>1</th>\n",
              "      <td>2</td>\n",
              "      <td>3</td>\n",
              "      <td>2</td>\n",
              "      <td>3</td>\n",
              "      <td>1</td>\n",
              "      <td>1</td>\n",
              "      <td>1</td>\n",
              "    </tr>\n",
              "    <tr>\n",
              "      <th>2</th>\n",
              "      <td>1</td>\n",
              "      <td>3</td>\n",
              "      <td>2</td>\n",
              "      <td>5</td>\n",
              "      <td>0</td>\n",
              "      <td>3</td>\n",
              "      <td>3</td>\n",
              "    </tr>\n",
              "    <tr>\n",
              "      <th>3</th>\n",
              "      <td>2</td>\n",
              "      <td>1</td>\n",
              "      <td>1</td>\n",
              "      <td>5</td>\n",
              "      <td>2</td>\n",
              "      <td>4</td>\n",
              "      <td>2</td>\n",
              "    </tr>\n",
              "    <tr>\n",
              "      <th>4</th>\n",
              "      <td>2</td>\n",
              "      <td>1</td>\n",
              "      <td>1</td>\n",
              "      <td>2</td>\n",
              "      <td>1</td>\n",
              "      <td>4</td>\n",
              "      <td>0</td>\n",
              "    </tr>\n",
              "  </tbody>\n",
              "</table>\n",
              "</div>"
            ],
            "text/plain": [
              "   Sexo  Estado_civil  ...  Salario  Cluster_group\n",
              "0     1             2  ...        3              1\n",
              "1     2             3  ...        1              1\n",
              "2     1             3  ...        3              3\n",
              "3     2             1  ...        4              2\n",
              "4     2             1  ...        4              0\n",
              "\n",
              "[5 rows x 7 columns]"
            ]
          },
          "metadata": {
            "tags": []
          },
          "execution_count": 34
        }
      ]
    },
    {
      "cell_type": "code",
      "metadata": {
        "id": "miM8J5n0IMQY"
      },
      "source": [
        "# Posteriormente, haremos un filtrado per cluster para ver como esta compuesto cada cluster\n",
        "# Dado que tenemos k = 5, hacemos 5 clusters\n",
        "# K1\n",
        "cluster_1 = clients.loc[:,'Cluster_group'] == 0\n",
        "cluster_1 = clients.loc[cluster_1]\n",
        "# K2\n",
        "cluster_2 = clients.loc[:,'Cluster_group'] == 1\n",
        "cluster_2 = clients.loc[cluster_2]\n",
        "# K3\n",
        "cluster_3 = clients.loc[:,'Cluster_group'] == 2\n",
        "cluster_3 = clients.loc[cluster_3]\n",
        "# K4 \n",
        "cluster_4 = clients.loc[:,'Cluster_group'] == 3\n",
        "cluster_4 = clients.loc[cluster_4]\n",
        "# K5\n",
        "cluster_5 = clients.loc[:,'Cluster_group'] == 4\n",
        "cluster_5 = clients.loc[cluster_5]"
      ],
      "execution_count": null,
      "outputs": []
    },
    {
      "cell_type": "code",
      "metadata": {
        "id": "CZvVGkPwIOJq",
        "colab": {
          "base_uri": "https://localhost:8080/",
          "height": 799
        },
        "outputId": "e210c702-0bd9-464f-9287-2885cc509bfe"
      },
      "source": [
        "# Una vez tenemos los clusters, aplicamos .mean() para ver, en promedio, cuál es su composición \n",
        "print(\"*K1:\\n{0}\\n*K2:\\n{1}\\n*K3:\\n{2} \\n*K4:\\n{3}\\n*K5:\\n{4}\".format(cluster_1.mean(), cluster_2.mean(), cluster_3.mean(), cluster_4.mean(), cluster_5.mean()))"
      ],
      "execution_count": null,
      "outputs": [
        {
          "output_type": "stream",
          "text": [
            "*K1:\n",
            "Sexo                             1.491228\n",
            "Estado_civil                     1.754386\n",
            "¿primera_vez_que_compra_auto?    1.824561\n",
            "Edad                             2.315789\n",
            "Hijos                            0.736842\n",
            "Salario                          4.982456\n",
            "Cluster_group                    0.000000\n",
            "dtype: float64\n",
            "*K2:\n",
            "Sexo                             1.491228\n",
            "Estado_civil                     1.894737\n",
            "¿primera_vez_que_compra_auto?    1.771930\n",
            "Edad                             2.087719\n",
            "Hijos                            0.473684\n",
            "Salario                          2.052632\n",
            "Cluster_group                    1.000000\n",
            "dtype: float64\n",
            "*K3:\n",
            "Sexo                             1.463415\n",
            "Estado_civil                     1.024390\n",
            "¿primera_vez_que_compra_auto?    1.926829\n",
            "Edad                             5.048780\n",
            "Hijos                            0.731707\n",
            "Salario                          5.000000\n",
            "Cluster_group                    2.000000\n",
            "dtype: float64 \n",
            "*K4:\n",
            "Sexo                             1.534483\n",
            "Estado_civil                     1.948276\n",
            "¿primera_vez_que_compra_auto?    1.844828\n",
            "Edad                             5.051724\n",
            "Hijos                            0.724138\n",
            "Salario                          2.344828\n",
            "Cluster_group                    3.000000\n",
            "dtype: float64\n",
            "*K5:\n",
            "Sexo                             1.361111\n",
            "Estado_civil                     2.833333\n",
            "¿primera_vez_que_compra_auto?    1.944444\n",
            "Edad                             5.166667\n",
            "Hijos                            0.416667\n",
            "Salario                          4.777778\n",
            "Cluster_group                    4.000000\n",
            "dtype: float64\n"
          ],
          "name": "stdout"
        }
      ]
    },
    {
      "cell_type": "markdown",
      "metadata": {
        "id": "AbC60p9MzrXv"
      },
      "source": [
        "Sexo: 1. Hombre 2. Mujer\n",
        "\n",
        "Estado civil: 1. Casado 2. Unión libre 3. Soltero\n",
        "\n",
        "¿Primera vez que compra un auto? 1. Si 2. No\n",
        "\n",
        "Edad: 1.<25 2.25-29 3.30-34 4.35-39 5.40-44 6 >44\n",
        "\n",
        "Hijos 0. 0 1. 1 2. Más de 1\n",
        "\n",
        "Salario (percepción mensual en miles de pesos) 1.<10 2.10-15 3.15-20 4.20-25 5.25-30 6.>30"
      ]
    },
    {
      "cell_type": "markdown",
      "metadata": {
        "id": "146SKCsb0No4"
      },
      "source": [
        "A partir del promedio obtenido en cada cluster podemos determinar aproximadamente cuál es la composición de cada cluster.\n",
        "\n",
        "**K1** \n",
        "\n",
        "Compuesto en su mayoria por hombres (algunas mujeres)\n",
        "casados(as) (algunos en unión libre) que\n",
        "compran por primera vez un auto cuya edad ronda los 25\n",
        "a 29 años sin hijos (tal vez uno por ahí) con un\n",
        "salario de entre 25 mil y 30 mil pesos.\n",
        "\n",
        "**k2**\n",
        "\n",
        "Compuesto en su mayoría por hombres en unión libre o solteros\n",
        "que ya han comprado un auto anteriormente con una edad\n",
        "de entre 40 y 44 años sin hijos (tal vez 1) y con un\n",
        "salario de 20 a 25 mil pesos, tal vez más.\n",
        "\n",
        "**k3**\n",
        "\n",
        "Compuesto en su mayorioa por hombres (algunas mujeres)\n",
        "en unión libre (uno que otro casado) que ya han comprado\n",
        "un auto con anterioridad (algunos es primera vez), con una\n",
        "edad de entre 40 y 44 años sin hijos (tal vez alguno(s) tienen\n",
        "un hijo) con un salario de 10 a 15 mil pesos.\n",
        "\n",
        "**k4**\n",
        "\n",
        "Compuesto en su mayoría por hombres casados que ya han\n",
        "comprado un auto anteriormente (para algunos es primera vez),\n",
        "con una edad de entre 40 y 44 años, sin hijos (tal vez\n",
        "alguno tenga un hijo) y con un salario de entre 25 y 30 mil\n",
        "pesos.\n",
        " \n",
        "**K5**\n",
        "\n",
        "Compuesto en su mayoría por hombres (algunas mujeres),\n",
        "casados y alguno que otro en unión libre que no es primera\n",
        "vez que compran un auto (para algunos sí), con una edad\n",
        "de entre 25 y 29 años, sin hijos (tal vez alguno tenga uno)\n",
        "y con un salario de 10 a 15 mil pesos.\n",
        "\n",
        "\n"
      ]
    },
    {
      "cell_type": "markdown",
      "metadata": {
        "id": "0DOmxxTS4lMX"
      },
      "source": [
        "Dado el analisis y las conclusiones anteriores respecto a cada cluster, yo le sugeriria a la empresa que se enfocara en K1. \n",
        "\n",
        "**¿Por qué?**\n",
        "\n",
        "Porqué en el caso de K1 se trata de personas que están comprando por primera vez un auto y dichas personas perciben un sueldo considerablemente alto. Por lo que al tener dinero, no tener hijos y ser su primera vez comprando un auto, es más facil persuadirlos ya que no están predispuestos a alguna marca en especifico y al no tener hijos, tal vez no se limiten en cuanto al precio del auto.\n",
        "\n"
      ]
    },
    {
      "cell_type": "markdown",
      "metadata": {
        "id": "Xr3P9BitblZR"
      },
      "source": [
        "#**Bonus:**\n",
        "\n",
        "Si terminaste tu ejercicio y quieres puntos extra, programa kMeans para el caso bidimensional, de manera que pueda verse cada paso del proceso (cada grupo de un color, los centroides modificándose). La salida de tu código debe ser, además de la predicción para cada instancia, un gif que muestre el proceso.\n",
        "\n",
        "Tu código no tiene necesariamente tiene que ser eficiente, pero sí tiene que ser tuyo. "
      ]
    },
    {
      "cell_type": "code",
      "metadata": {
        "id": "A0QK121b8H0Q",
        "colab": {
          "base_uri": "https://localhost:8080/",
          "height": 34
        },
        "outputId": "153d5109-ad90-4519-c8d1-4fe6f0e0b152"
      },
      "source": [
        "def km_artesanal(x,y,k=2, iteration=100):\n",
        "  \"\"\"\n",
        "  x = array of numbers in X axis\n",
        "  y = array of numbers in Y axis\n",
        "  k = number of cluster\n",
        "  iteration = number of iterations\n",
        "  \"\"\"\n",
        "  points = np.column_stack((x,y))\n",
        "  partition = len(points)//k\n",
        "  A = points[0:partition, :]; B = points[partition:,:] # partimos nuestros datos en dos clusters\n",
        "\n",
        "  pass\n",
        "\"\"\"\n",
        "Me quede sin tiempo debido a las demás tareas que tengo que hacer y \n",
        "no pude intentar más a fondo este problema. Lo siento  \n",
        "\"\"\"\n",
        "\n",
        "x = [-2,-2,0,2,3.5]\n",
        "y = [-1.5,-1,-1,1,1]\n",
        "km_artesanal(x,y)"
      ],
      "execution_count": null,
      "outputs": [
        {
          "output_type": "execute_result",
          "data": {
            "text/plain": [
              "array([-1.5, -1. ])"
            ]
          },
          "metadata": {
            "tags": []
          },
          "execution_count": 57
        }
      ]
    },
    {
      "cell_type": "code",
      "metadata": {
        "id": "R7c9-_4HjGZ9"
      },
      "source": [
        ""
      ],
      "execution_count": null,
      "outputs": []
    }
  ]
}