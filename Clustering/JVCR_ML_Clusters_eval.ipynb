{
  "nbformat": 4,
  "nbformat_minor": 0,
  "metadata": {
    "colab": {
      "name": "JVCR_ML_Clusters_eval.ipynb",
      "provenance": [],
      "collapsed_sections": [],
      "toc_visible": true
    },
    "kernelspec": {
      "display_name": "Python 3",
      "language": "python",
      "name": "python3"
    },
    "language_info": {
      "codemirror_mode": {
        "name": "ipython",
        "version": 3
      },
      "file_extension": ".py",
      "mimetype": "text/x-python",
      "name": "python",
      "nbconvert_exporter": "python",
      "pygments_lexer": "ipython3",
      "version": "3.7.6"
    }
  },
  "cells": [
    {
      "cell_type": "markdown",
      "metadata": {
        "id": "YokrjWG_juIM"
      },
      "source": [
        "#Medidas Internas de evaluación\n",
        "\n",
        "##Purity\n",
        "\n",
        "Implementa tu propia versióón de Purity. Tu funcióón deberáá recibir de entrada: \n",
        "\n",
        "* Dos listas del mismo tamaño;\n",
        "* La primera con la clase de las instancias\n",
        "* La segunda con el agrupamiento que se desea evaluar\n"
      ]
    },
    {
      "cell_type": "markdown",
      "metadata": {
        "id": "SBl2MYbGkkKG"
      },
      "source": [
        "Le vamos a llamar clases a los grupos \"verdaderos\" y los denotare \n",
        "por **C**\n",
        "\n",
        "purity(Ω, C) = $1/n$ * SUM de K max |Wk n Cj|\n",
        "\n",
        "K es el núúmero de clusters\n",
        "n es mi número total de elementos"
      ]
    },
    {
      "cell_type": "code",
      "metadata": {
        "id": "Csqb9xoT2VuZ"
      },
      "source": [
        "def organization(C, omega):\n",
        "  \"\"\"\n",
        "  C = lista de n elementos\n",
        "  omega = lista de n elementos\n",
        "  \"\"\"\n",
        "  # Organizamos C para formar los clusters\n",
        "  label = 0; organization_C = []\n",
        "  for element in C:\n",
        "    my_element = (element, label) \n",
        "    organization_C.append(my_element)\n",
        "    label += 1\n",
        "\n",
        "  label = 0; organization_O = [] \n",
        "  for element in omega: \n",
        "    my_element = (element, label)\n",
        "    organization_O.append(my_element)\n",
        "    label += 1\n",
        "\n",
        "  return (organization_C, organization_O)"
      ],
      "execution_count": null,
      "outputs": []
    },
    {
      "cell_type": "markdown",
      "metadata": {
        "id": "P0_Vs_oUVyIL"
      },
      "source": [
        "#Implementación de **Purity**"
      ]
    },
    {
      "cell_type": "code",
      "metadata": {
        "id": "mAp0e698PVhX"
      },
      "source": [
        "def purity(C, omega):\n",
        "  \"\"\"\n",
        "  C = lista de n elementos, instancias \n",
        "  omega = lista de n elementosm, agrupamiento\n",
        "  \"\"\"\n",
        "  \n",
        "  #C agrupamiento correcto \n",
        "  #omega agrupamiento a comparar\n",
        "  N = len(C) #Para hacer 1/n cuando aplique la formula\n",
        "  C_elements = set(C); Omega_elements = set(omega) # Para hacer los formatos de clusters\n",
        "  \n",
        "  # Comprobamos que las listas sean del mismo tamaño\n",
        "  if len(C) == len(omega): pass\n",
        "  else: return(\"Se espera listas de tamaño similar\")\n",
        "\n",
        "  C, omega = organization(C, omega) #asignamos un indice a cada elemento \n",
        "\n",
        "  # Formamos las etiquetas para los clusters\n",
        "  clusters_C = {key: [] for key in C_elements}; clusters_O = {key: [] for key in Omega_elements}\n",
        "  #print(clusters_C); print(clusters_O)\n",
        "  \n",
        "  #formamos los clusters\n",
        "  # clusters C\n",
        "  for element, label in C:\n",
        "    clusters_C[element].append(label)\n",
        "  # clusters O\n",
        "  for element, label in omega:\n",
        "    clusters_O[element].append(label)\n",
        "\n",
        "  #print(clusters_C); print(clusters_O)\n",
        "  #purity(Ω, C) = 1/n * SUM de K max |Wk n Cj|\n",
        "  \n",
        "  key_o = clusters_O.keys(); key_c = clusters_C.keys()\n",
        "  tmp_summation = 0\n",
        "  # Hacemos la comparacióón de todos contra todos\n",
        "  for subCluster_o in key_o:\n",
        "    my_cluster_o = set(clusters_O[subCluster_o])\n",
        "    tmp_value_comparation = []\n",
        "    for subCluster_c in key_c:\n",
        "      my_cluster_c = set(clusters_C[subCluster_c])\n",
        "      equal_elements = len(list(my_cluster_o & my_cluster_c)) #comparamos los clusters\n",
        "      tmp_value_comparation.append(equal_elements)\n",
        "\n",
        "    tmp_summation += max(tmp_value_comparation)\n",
        "\n",
        "  # Aplicamos la formula para obtener la pureza\n",
        "  result = (1/N)*tmp_summation    \n",
        "  #print(clusters_C); print(clusters_O)\n",
        "  return(result*100)\n",
        "  #print(C,\"\\n\",omega)"
      ],
      "execution_count": null,
      "outputs": []
    },
    {
      "cell_type": "code",
      "metadata": {
        "colab": {
          "base_uri": "https://localhost:8080/",
          "height": 34
        },
        "id": "ln3JImZYWdpn",
        "outputId": "9deff547-0030-44bf-d59e-b1d0d15cf1be"
      },
      "source": [
        "C = [0, 2, 0, 2, 1, 2, 1, 0, 1, 0, 2, 1, 1, 0, 1, 0, 1, 1, 2, 1]\n",
        "#omega = [0, 0, 1, 0, 2, 0, 2, 1, 2, 1, 0, 2, 2, 1, 2, 1, 2, 2, 0, 2]\n",
        "omega = ['C', 'B', 'A', 'B', 'B', 'B', 'B', 'B', 'A', 'B', 'B', 'B', 'A', 'C', 'C', 'C', 'B', 'A', 'A', 'C']\n",
        "print(\"Pureza: {0}%\".format(purity(C, omega)))"
      ],
      "execution_count": null,
      "outputs": [
        {
          "output_type": "stream",
          "text": [
            "Pureza: 50.0%\n"
          ],
          "name": "stdout"
        }
      ]
    },
    {
      "cell_type": "code",
      "metadata": {
        "id": "PIqnQKwYKJaW"
      },
      "source": [
        "def combinations(elements, r):\n",
        "  \"\"\"\n",
        "  elements = una lista de números o letras para combinar\n",
        "  r = el número del que se desea hacer la combinación\n",
        "  \"\"\"\n",
        "  combinations = []\n",
        "  n = len(elements)\n",
        "  for i in range(n-1):\n",
        "    for j in range(i+1, n):\n",
        "      combinations.append((elements[i], elements[j]))\n",
        "\n",
        "  #print(combinations)\n",
        "  return (combinations)\n"
      ],
      "execution_count": null,
      "outputs": []
    },
    {
      "cell_type": "markdown",
      "metadata": {
        "id": "z-dy44V7V28-"
      },
      "source": [
        "#Implementación de **Rand Index**"
      ]
    },
    {
      "cell_type": "code",
      "metadata": {
        "id": "LX-DWLHMnueq"
      },
      "source": [
        "def rand_index(C, omega):\n",
        "  \"\"\"\n",
        "  C = lista de n elementos, instancias \n",
        "  omega = lista de n elementosm, agrupamiento\n",
        "  \"\"\"\n",
        "  #C agrupamiento correcto \n",
        "  #omega agrupamiento a comparar\n",
        "  N = len(C) #Para hacer N(N-1)/2 cuando aplique la formula\n",
        "  C_elements = set(C); Omega_elements = set(omega) # Para hacer los formatos de clusters\n",
        "  \n",
        "  # Comprobamos que las listas sean del mismo tamaño\n",
        "  if len(C) == len(omega): pass\n",
        "  else: return(\"Se espera listas de tamaño similar\")\n",
        "\n",
        "  C, omega = organization(C, omega) #asignamos un indice a cada elemento \n",
        "  #print(C)\n",
        "  # Formamos las etiquetas para los clusters\n",
        "  clusters_C = {key: [] for key in C_elements}; clusters_O = {key: [] for key in Omega_elements}\n",
        "  #formamos los clusters\n",
        "  # clusters C\n",
        "  for element, label in C:\n",
        "    clusters_C[element].append(label)\n",
        "  # clusters O\n",
        "  for element, label in omega:\n",
        "    clusters_O[element].append(label)\n",
        "\n",
        "\n",
        "  #Si deseas ver los clusters que se formaron, descomentas las dos líneas siguientes\n",
        "  #print(\"cluterC:\", clusters_C)\n",
        "  #print(\"cluterO:\", clusters_O)\n",
        "\n",
        "  #RI = TP+TN/TP+FP+FN+TN\n",
        "  #TP si eran parejas de la misma clase y quedaron juntas, acierto \n",
        "  #TN si eran parejas de clase distinta y quedaron en diferente grupo, acierto\n",
        "  #Recordemos que TP+FP+FN+TN = N(N-1)/2 O sea, el total de posibles parejas \n",
        "  #Para obtener TP+TN basta con hacer #elementosEnCluster en 2 es decir\n",
        "  #sacar todas las posibles parejas de cada cluster, el total seráá TP+TN\n",
        "  \"\"\"\n",
        "  TP\n",
        "  \"\"\"\n",
        "  #Procedimiento para obtener TP\n",
        "  #TP_list = []\n",
        "  TP = 0\n",
        "  for subClusterO in clusters_O.values():\n",
        "    #print(subClusterO)\n",
        "    combinationsO = combinations(subClusterO, 2)\n",
        "    #print(combinationsO)\n",
        "    for subClusterC in clusters_C.values():\n",
        "      combinationsC = combinations(subClusterC, 2)\n",
        "      intersection_OC = list(set(combinationsO) & set(combinationsC))\n",
        "      if len(intersection_OC) != 0:\n",
        "        TP += len(intersection_OC)\n",
        "        #print(intersection_OC) #Si deseas ver todas las tuplas TP descomenta esta líínea\n",
        "\n",
        "  #print(\"TP son todas las tuplas anteriores...\")\n",
        "  print(\"TP:\",TP)\n",
        "\n",
        "  \"\"\"\n",
        "  TN\n",
        "  \"\"\"\n",
        "  #Procedimiento para obtener TN\n",
        "  pairs = [x for x in range(N)] #Para obtener todas las posibles parejas\n",
        "  #print(\"pairs\", pairs)\n",
        "  my_pairs = combinations(pairs,2) #Hacemos una lista con todas las posibles combinaciones \n",
        "  #de nuestra lista C\n",
        "\n",
        "  #print(my_pairs)\n",
        "  #Generamos un diccionario para Omega y uno para C\n",
        "  #donde las claves son las parejas de todas las combinaciones posibles\n",
        "  omega_count = {key: 0 for key in my_pairs}; C_count = {key: 0 for key in my_pairs}\n",
        "  #Ahora recorremos cada subcluster y sacamos todas sus posibles parejas\n",
        "  #y a cada pareja que se encuentre en todas las combinaciones posibles les pones 1\n",
        "  #las que queden en cero, significa que son parejas que no existen en nuestros subcluster \n",
        "  #es decir, ¡estan separadas! En nuestro subcluster o se trata de un subcluster con un solo elemento. \n",
        "  #Para omega\n",
        "  for element in clusters_O.values():\n",
        "    if len(element) == 1: \n",
        "      omega_count[element[0]] = 0\n",
        "    else: \n",
        "      combination_element = combinations(element, 2)\n",
        "      for actual_combination in combination_element:\n",
        "        if actual_combination in omega_count:\n",
        "          omega_count[actual_combination] += 1\n",
        "\n",
        "  #Hacemos lo mismo para cada subcluster de C\n",
        "  #para C\n",
        "  for element in clusters_C.values():\n",
        "    if len(element) == 1: \n",
        "      C_count[element[0]] = 0\n",
        "    else: \n",
        "      combination_element = combinations(element, 2)\n",
        "      for actual_combination in combination_element:\n",
        "        if actual_combination in C_count:\n",
        "          C_count[actual_combination] += 1\n",
        "\n",
        "\n",
        "  #print(\"omega,\",omega_count)\n",
        "  #print(\"C,\",C_count)\n",
        "  #Ahora que ya tenemos un diccionario que nos dice las parejas que hay en omega y uno que nos dice \n",
        "  #las parejas que hay en C\n",
        "  #Obtenes las parejas que tengan como valor cero tanto en omega como en C\n",
        "  #o sea, que estan separados tanto en omega como en C\n",
        "  TN = 0\n",
        "  for key_O, value_O in omega_count.items():\n",
        "    if value_O == 0: \n",
        "      for key_C, value_C in C_count.items():\n",
        "        if value_C == 0 and key_C == key_O:\n",
        "          #print(key_C) #Si deseas ver las tuplas TN descomenta esta líínea \n",
        "          TN += 1\n",
        "  \n",
        "  #print(\"TN son todas las tuplas anteriores...\")\n",
        "  print(\"TN:\",TN)\n",
        "  #RI = TP+TN/TP+FP+FN+TN = TP+TN/((N*(N-1)/2))\n",
        "  numerador = TP+TN; denominador = (N*(N-1))/2\n",
        "  result = (numerador/denominador)\n",
        "  return (result*100)"
      ],
      "execution_count": null,
      "outputs": []
    },
    {
      "cell_type": "code",
      "metadata": {
        "colab": {
          "base_uri": "https://localhost:8080/",
          "height": 104
        },
        "id": "LHDMUncA2nSl",
        "outputId": "2d4ab8a7-e603-4bb2-94cf-3c34769f0193"
      },
      "source": [
        "C = [0, 2, 0, 2, 1, 2, 1, 0, 1, 0, 2, 1, 1, 0, 1, 0, 1, 1, 2, 1]\n",
        "#omega = [0, 0, 1, 0, 2, 0, 2, 1, 2, 1, 0, 2, 2, 1, 2, 1, 2, 2, 0, 2]\n",
        "omega = ['C', 'B', 'A', 'B', 'B', 'B', 'B', 'B', 'A', 'B', 'B', 'B', 'A', 'C', 'C', 'C', 'B', 'A', 'A', 'C']\n",
        "\n",
        "#C = [0,2,0,2,1,2,1]\n",
        "#omega = [\"C\", \"B\", \"A\", \"B\", \"B\", \"B\", \"B\"]\n",
        "\n",
        "#C = [0, 0, 1, 0, 0, 0, 0, 1, 1, 1, 2, 1, 0, 2, 2, 2, 0]\n",
        "#omega = [0, 0, 0, 0, 0, 0, 1, 1, 1, 1, 1, 1, 2, 2, 2, 2, 2]\n",
        "\n",
        "#C = [0,0,0,1,1,2,2,2]\n",
        "#omega = [1,1,1,1,1,0,0,2]\n",
        "print(\"Indice rand: {0}%\".format(rand_index(C, omega)))"
      ],
      "execution_count": null,
      "outputs": [
        {
          "output_type": "stream",
          "text": [
            "TP: 20\n",
            "TN: 84\n",
            "Indice rand: 54.736842105263165%\n"
          ],
          "name": "stdout"
        }
      ]
    },
    {
      "cell_type": "code",
      "metadata": {
        "id": "13FzRZoQSSvp"
      },
      "source": [
        "def entropy(element, N):\n",
        "    import math\n",
        "    \"\"\"\n",
        "    element = lista de listas\n",
        "    N = longitud de la lista antes de hacer clusters\n",
        "    \"\"\"\n",
        "    summation = 0\n",
        "    for subCluster in element.values():\n",
        "        P1 = len(subCluster)/N\n",
        "        if P1 <= 0:\n",
        "            P2log = math.log2(1)\n",
        "        else:\n",
        "            P2log = math.log(P1)\n",
        "        \n",
        "        #print(P2log)\n",
        "        summation += P1*P2log\n",
        "        \n",
        "    return(summation*-1)"
      ],
      "execution_count": null,
      "outputs": []
    },
    {
      "cell_type": "code",
      "metadata": {
        "id": "Jljpy_3jSSvr"
      },
      "source": [
        "# Información mutua\n",
        "def MI(C, omega):\n",
        "  \"\"\"\n",
        "  C = lista de n elementos, instancias \n",
        "  omega = lista de n elementosm, agrupamiento\n",
        "  \"\"\"\n",
        "  \n",
        "  #C agrupamiento correcto \n",
        "  #omega agrupamiento a comparar\n",
        "  N = len(C) #Para hacer 1/n cuando aplique la formula\n",
        "  C_elements = set(C); Omega_elements = set(omega) # Para hacer los formatos de clusters\n",
        "  \n",
        "  # Comprobamos que las listas sean del mismo tamaño\n",
        "  if len(C) == len(omega): pass\n",
        "  else: return(\"Se espera listas de tamaño similar\")\n",
        "\n",
        "  C, omega = organization(C, omega) #asignamos un indice a cada elemento \n",
        "\n",
        "  # Formamos las etiquetas para los clusters\n",
        "  clusters_C = {key: [] for key in C_elements}; clusters_O = {key: [] for key in Omega_elements}\n",
        "  #print(clusters_C); print(clusters_O)\n",
        "  \n",
        "  #formamos los clusters\n",
        "  # clusters C\n",
        "  for element, label in C:\n",
        "    clusters_C[element].append(label)\n",
        "  # clusters O\n",
        "  for element, label in omega:\n",
        "    clusters_O[element].append(label)\n",
        "\n",
        "  #print(clusters_C); print(clusters_O)\n",
        "  #MI(Ω, C) = I(Ω, C)/[H(Ω)+ H(C)]/2\n",
        "  #I(Ω, C) = SUM k SUM jP((ΩnC))*log(P(ΩknCj))/P((Ωk)*P(Cj))\n",
        "  \n",
        "  key_o = clusters_O.keys(); key_c = clusters_C.keys()\n",
        "\n",
        "  \n",
        "  summation_k = 0\n",
        "  \n",
        "  import math\n",
        "  #import sys\n",
        "  #limit = math.log(sys.float_info.min)\n",
        "  # Hacemos la comparacióón de todos contra todos\n",
        "  for subCluster_o in key_o:\n",
        "    my_cluster_o = set(clusters_O[subCluster_o])\n",
        "    #print(my_cluster_o)\n",
        "    summation_j = 0\n",
        "    for subCluster_c in key_c:    \n",
        "      my_cluster_c = set(clusters_C[subCluster_c])\n",
        "      #print(my_cluster_c)\n",
        "      \n",
        "    \n",
        "      P = abs(len(list(my_cluster_o & my_cluster_c)))/N # P((ΩnC))\n",
        "      tmp_p2 = (len(list(my_cluster_o))/N) * (len(list(my_cluster_c))/N)\n",
        "      to_log = P/tmp_p2  \n",
        "      #print(tmp/tmp2)\n",
        "      if to_log <= 0:\n",
        "        tmp3 = math.log2(1)\n",
        "      else: \n",
        "        tmp3 = math.log2(to_log)\n",
        "      \n",
        "      tmp_result = P*tmp3\n",
        "      #print(tmp_result)  \n",
        "      summation_j += tmp_result\n",
        "    \n",
        "    summation_k += summation_j\n",
        "      \n",
        "\n",
        "  numerador = summation_k\n",
        "  #print(clusters_O)\n",
        "  denominador = (entropy(clusters_O, N)+entropy(clusters_C, N))/2\n",
        "  #print(numerador)\n",
        "  #print(denominador)\n",
        "  result = numerador/denominador    \n",
        "  #print(clusters_C); print(clusters_O)\n",
        "  return(result)"
      ],
      "execution_count": null,
      "outputs": []
    },
    {
      "cell_type": "code",
      "metadata": {
        "id": "vNlZ1WI9SSvt",
        "outputId": "e0ba6ee2-313f-491e-ba94-c467e4ed9209"
      },
      "source": [
        "#C = [0, 2, 0, 2, 1, 2, 1, 0, 1, 0, 2, 1, 1, 0, 1, 0, 1, 1, 2, 1]\n",
        "#omega = [0, 0, 1, 0, 2, 0, 2, 1, 2, 1, 0, 2, 2, 1, 2, 1, 2, 2, 0, 2]\n",
        "#omega = ['C', 'B', 'A', 'B', 'B', 'B', 'B', 'B', 'A', 'B', 'B', 'B', 'A', 'C', 'C', 'C', 'B', 'A', 'A', 'C']\n",
        "\n",
        "C = [0,0,0,0]\n",
        "omega = [0,1,2,3]\n",
        "#C = [0, 0, 1, 1]\n",
        "#omega = [1, 1, 0, 0]\n",
        "#C = [1,1,0,0]\n",
        "#omega = [0,0,1,1]\n",
        "print(\"MI: {0}\".format(MI(C, omega)))"
      ],
      "execution_count": null,
      "outputs": [
        {
          "output_type": "stream",
          "text": [
            "MI: 0.0\n"
          ],
          "name": "stdout"
        }
      ]
    },
    {
      "cell_type": "markdown",
      "metadata": {
        "id": "wdvlh6yIVYHB"
      },
      "source": [
        "#Evaluación de los agrupamiento mostrados en la figura 1 con los algoritmos implementados."
      ]
    },
    {
      "cell_type": "code",
      "metadata": {
        "colab": {
          "base_uri": "https://localhost:8080/",
          "height": 121
        },
        "id": "6_LXb06nLnDS",
        "outputId": "39533957-8458-4461-9bf3-8939fa20e818"
      },
      "source": [
        "#Rosa = 0\n",
        "#Verde = 1\n",
        "#Naranja = 2\n",
        "\n",
        "\"\"\"\n",
        "Tenemos tres grupos: \n",
        "Grupo_1 = [R, R, R, R, V, N]\n",
        "Grupo_2 = [V, V, V, N, N]\n",
        "Grupo_3 = [R, R, N, N, N, N, N]\n",
        "\n",
        "Asignando un número a cada letra comenzando por 0 tenemos: \n",
        "Rosa = 0\n",
        "Verde = 1\n",
        "Naranja = 2\n",
        "por lo que los grupos anteriores los podemos reescribir como:\n",
        "Grupo_1 = [0,0,0,0,1,2]\n",
        "Grupo_2 = [1,1,1,2,2]\n",
        "Grupo_3 = [0,0,2,2,2,2,2]\n",
        "\n",
        "Agrupando tenemos que omega es igual a:\n",
        "omega = [Grupo_1, Grupo_2, Grupo_3] = [\"R\",\"R\",\"R\",\"R\",\"V\",\"N\",\"V\",\"V\",\"V\",\"N\",\"N\",\"R\",\"R\",\"N\",\"N\",\"N\",\"N\",\"N\"]\n",
        "ojo: solo estoy incluyendo los elementos, los clusters se formaran en el algoritmo\n",
        "En el caso de C, C es nuestro mundo real donde los datos estan perfectamente acomodados: \n",
        "C = [\"R\",\"R\",\"R\",\"R\",\"R\",\"R\",\"N\",\"N\",\"N\",\"N\",\"N\",\"N\",\"N\",\"N\",\"V\",\"V\",\"V\",\"V\"]\n",
        "\"\"\"\n",
        "#C = [0,0,0,0,0,0,2,2,2,2,2,2,2,2,1,1,1,1]\n",
        "C = [\"R\",\"R\",\"R\",\"R\",\"R\",\"R\",\"N\",\"N\",\"N\",\"N\",\"N\",\"N\",\"N\",\"N\",\"V\",\"V\",\"V\",\"V\"]\n",
        "omega = [\"R\",\"R\",\"R\",\"R\",\"V\",\"N\",\"V\",\"V\",\"V\",\"N\",\"N\",\"R\",\"R\",\"N\",\"N\",\"N\",\"N\",\"N\"]\n",
        "#omega = [0,0,0,0,1,2,1,1,1,2,2,0,0,2,2,2,2,2]\n",
        "print(\"Purity: {0}%\".format(purity(C, omega)))\n",
        "print(\"Indice rand: {0}%\".format(rand_index(C, omega)))"
      ],
      "execution_count": null,
      "outputs": [
        {
          "output_type": "stream",
          "text": [
            "Purity: 61.11111111111111%\n",
            "cluterC: {'V': [14, 15, 16, 17], 'R': [0, 1, 2, 3, 4, 5], 'N': [6, 7, 8, 9, 10, 11, 12, 13]}\n",
            "cluterO: {'V': [4, 6, 7, 8], 'R': [0, 1, 2, 3, 11, 12], 'N': [5, 9, 10, 13, 14, 15, 16, 17]}\n",
            "TP: 19\n",
            "TN: 74\n",
            "Indice rand: 60.78431372549019%\n"
          ],
          "name": "stdout"
        }
      ]
    },
    {
      "cell_type": "markdown",
      "metadata": {
        "id": "Ksc_hsrSW-_p"
      },
      "source": [
        "Ahora supón que cada objeto (en todos los grupos) se duplica (cada bolita se parte en dos, del mismo color en el mismo grupo)."
      ]
    },
    {
      "cell_type": "code",
      "metadata": {
        "colab": {
          "base_uri": "https://localhost:8080/",
          "height": 141
        },
        "id": "jZ6o6DHHLqWV",
        "outputId": "7913f053-fed0-4207-93e1-8ddf256c269e"
      },
      "source": [
        "#C = [0,0,0,0,0,0,0,0,0,0,0,0,2,2,2,2,2,2,2,2,2,2,2,2,2,2,2,2,1,1,1,1,1,1,1,1]\n",
        "C = [\"R\",\"R\",\"R\",\"R\",\"R\",\"R\",\"R\",\"R\",\"R\",\"R\",\"R\",\"R\",\"N\",\"N\",\"N\",\"N\",\"N\",\"N\",\"N\",\"N\",\"N\",\"N\",\"N\",\"N\",\"N\",\"N\",\"N\",\"N\",\"V\",\"V\",\"V\",\"V\",\"V\",\"V\",\"V\",\"V\"]\n",
        "omega = [\"R\",\"R\",\"R\",\"R\",\"R\",\"R\",\"R\",\"R\",\"V\",\"V\",\"N\",\"N\", \"V\",\"V\",\"V\",\"V\",\"V\",\"V\",\"N\",\"N\",\"N\",\"N\", \"R\",\"R\",\"R\",\"R\",\"N\",\"N\",\"N\",\"N\",\"N\",\"N\",\"N\",\"N\",\"N\",\"N\"]\n",
        "#omega = [0,0,0,0,0,0,0,0,1,1,2,2, 1,1,1,1,1,1,2,2,2,2, 0,0,0,0,2,2,2,2,2,2,2,2,2,2]\n",
        "print(\"Purity: {0}%\".format(purity(C, omega)))\n",
        "print(\"Indice rand: {0}%\".format(rand_index(C, omega)))"
      ],
      "execution_count": null,
      "outputs": [
        {
          "output_type": "stream",
          "text": [
            "Purity: 61.11111111111111%\n",
            "cluterC: {'V': [28, 29, 30, 31, 32, 33, 34, 35], 'R': [0, 1, 2, 3, 4, 5, 6, 7, 8, 9, 10, 11], 'N': [12, 13, 14, 15, 16, 17, 18, 19, 20, 21, 22, 23, 24, 25, 26, 27]}\n",
            "cluterO: {'V': [8, 9, 12, 13, 14, 15, 16, 17], 'R': [0, 1, 2, 3, 4, 5, 6, 7, 22, 23, 24, 25], 'N': [10, 11, 18, 19, 20, 21, 26, 27, 28, 29, 30, 31, 32, 33, 34, 35]}\n",
            "TP: 94\n",
            "TN: 296\n",
            "Indice rand: 61.904761904761905%\n"
          ],
          "name": "stdout"
        }
      ]
    },
    {
      "cell_type": "markdown",
      "metadata": {
        "id": "AvJgBCS7dwtF"
      },
      "source": [
        "* ¿Qué medidas cambian más (o menos) cuando se duplica el número de puntos?\n",
        "R- El indice de rand cambia respecto al valor de TP y TN, aumenta casi \n",
        "cinco veces pero el resultado, el valor RI varia únicamente por unos cuantos decimales. \n",
        "* ¿Qué medida te parece mejor viendo este comportamiento? \n",
        "R- Purity\n",
        "* ¿Por qué?\n",
        "R- Porque desde mi punto de vista, el duplicar cada elementos, no deberíía de cambiar en nada, es decir. Sólo cambio la longitud del arreglo pero se deberíía de respetar el parecido entre ambos arreglos ya que en ambos se duplico. Entonces el hecho de que Purity no vario me da más confianza que RI, pues RI no sé que tanto va a variar entre mayor sea la longitud de los arreglos. "
      ]
    },
    {
      "cell_type": "markdown",
      "metadata": {
        "id": "W65ZpzwTpNdx"
      },
      "source": [
        "#Exploración de datos"
      ]
    },
    {
      "cell_type": "code",
      "metadata": {
        "colab": {
          "base_uri": "https://localhost:8080/",
          "height": 34
        },
        "id": "Y7OME1GoszpU",
        "outputId": "784ebd4a-c270-402d-ec20-60d15308aa83"
      },
      "source": [
        "import pandas as pd\n",
        "clients = pd.read_csv('perfilClientes.csv')\n",
        "clients.shape\n",
        "#En el documento csv cada fila corresponde a un cliente, cada columna corresponde\n",
        "#a una de las 62 preguntas"
      ],
      "execution_count": null,
      "outputs": [
        {
          "output_type": "execute_result",
          "data": {
            "text/plain": [
              "(249, 62)"
            ]
          },
          "metadata": {
            "tags": []
          },
          "execution_count": 9
        }
      ]
    },
    {
      "cell_type": "code",
      "metadata": {
        "id": "j-CGTTzntzz2"
      },
      "source": [
        "clients.columns = [\"pregunta_{0}\".format(x+1) for x in range (clients.shape[1])]\n",
        "clients.index = [\"cliente_{0}\".format(x+1) for x in range (clients.shape[0])]"
      ],
      "execution_count": null,
      "outputs": []
    },
    {
      "cell_type": "code",
      "metadata": {
        "colab": {
          "base_uri": "https://localhost:8080/",
          "height": 132
        },
        "id": "grxdvu4LvSh6",
        "outputId": "942e9943-20b8-4387-9e09-f94ad60d09c8"
      },
      "source": [
        "clients.head(2)"
      ],
      "execution_count": null,
      "outputs": [
        {
          "output_type": "execute_result",
          "data": {
            "text/html": [
              "<div>\n",
              "<style scoped>\n",
              "    .dataframe tbody tr th:only-of-type {\n",
              "        vertical-align: middle;\n",
              "    }\n",
              "\n",
              "    .dataframe tbody tr th {\n",
              "        vertical-align: top;\n",
              "    }\n",
              "\n",
              "    .dataframe thead th {\n",
              "        text-align: right;\n",
              "    }\n",
              "</style>\n",
              "<table border=\"1\" class=\"dataframe\">\n",
              "  <thead>\n",
              "    <tr style=\"text-align: right;\">\n",
              "      <th></th>\n",
              "      <th>pregunta_1</th>\n",
              "      <th>pregunta_2</th>\n",
              "      <th>pregunta_3</th>\n",
              "      <th>pregunta_4</th>\n",
              "      <th>pregunta_5</th>\n",
              "      <th>pregunta_6</th>\n",
              "      <th>pregunta_7</th>\n",
              "      <th>pregunta_8</th>\n",
              "      <th>pregunta_9</th>\n",
              "      <th>pregunta_10</th>\n",
              "      <th>...</th>\n",
              "      <th>pregunta_53</th>\n",
              "      <th>pregunta_54</th>\n",
              "      <th>pregunta_55</th>\n",
              "      <th>pregunta_56</th>\n",
              "      <th>pregunta_57</th>\n",
              "      <th>pregunta_58</th>\n",
              "      <th>pregunta_59</th>\n",
              "      <th>pregunta_60</th>\n",
              "      <th>pregunta_61</th>\n",
              "      <th>pregunta_62</th>\n",
              "    </tr>\n",
              "  </thead>\n",
              "  <tbody>\n",
              "    <tr>\n",
              "      <th>cliente_1</th>\n",
              "      <td>7</td>\n",
              "      <td>7</td>\n",
              "      <td>7</td>\n",
              "      <td>5</td>\n",
              "      <td>4</td>\n",
              "      <td>4</td>\n",
              "      <td>5</td>\n",
              "      <td>4</td>\n",
              "      <td>5</td>\n",
              "      <td>5</td>\n",
              "      <td>...</td>\n",
              "      <td>1</td>\n",
              "      <td>1</td>\n",
              "      <td>1</td>\n",
              "      <td>1</td>\n",
              "      <td>5</td>\n",
              "      <td>4</td>\n",
              "      <td>3</td>\n",
              "      <td>5</td>\n",
              "      <td>4</td>\n",
              "      <td>5</td>\n",
              "    </tr>\n",
              "    <tr>\n",
              "      <th>cliente_2</th>\n",
              "      <td>5</td>\n",
              "      <td>4</td>\n",
              "      <td>6</td>\n",
              "      <td>5</td>\n",
              "      <td>7</td>\n",
              "      <td>5</td>\n",
              "      <td>3</td>\n",
              "      <td>5</td>\n",
              "      <td>4</td>\n",
              "      <td>5</td>\n",
              "      <td>...</td>\n",
              "      <td>3</td>\n",
              "      <td>5</td>\n",
              "      <td>6</td>\n",
              "      <td>3</td>\n",
              "      <td>4</td>\n",
              "      <td>4</td>\n",
              "      <td>5</td>\n",
              "      <td>3</td>\n",
              "      <td>4</td>\n",
              "      <td>4</td>\n",
              "    </tr>\n",
              "  </tbody>\n",
              "</table>\n",
              "<p>2 rows × 62 columns</p>\n",
              "</div>"
            ],
            "text/plain": [
              "           pregunta_1  pregunta_2  pregunta_3  pregunta_4  pregunta_5  \\\n",
              "cliente_1           7           7           7           5           4   \n",
              "cliente_2           5           4           6           5           7   \n",
              "\n",
              "           pregunta_6  pregunta_7  pregunta_8  pregunta_9  pregunta_10  ...  \\\n",
              "cliente_1           4           5           4           5            5  ...   \n",
              "cliente_2           5           3           5           4            5  ...   \n",
              "\n",
              "           pregunta_53  pregunta_54  pregunta_55  pregunta_56  pregunta_57  \\\n",
              "cliente_1            1            1            1            1            5   \n",
              "cliente_2            3            5            6            3            4   \n",
              "\n",
              "           pregunta_58  pregunta_59  pregunta_60  pregunta_61  pregunta_62  \n",
              "cliente_1            4            3            5            4            5  \n",
              "cliente_2            4            5            3            4            4  \n",
              "\n",
              "[2 rows x 62 columns]"
            ]
          },
          "metadata": {
            "tags": []
          },
          "execution_count": 11
        }
      ]
    },
    {
      "cell_type": "markdown",
      "metadata": {
        "id": "W6g51ZLuw7jo"
      },
      "source": [
        "En el cuestionario se utilizo una escala de 7 puntos:\n",
        "* 1 = completamente en desacuerdo\n",
        "* 4 = ni de acuerdo ni en desacuerdo \n",
        "* 7 = completamente de acuerdo"
      ]
    },
    {
      "cell_type": "markdown",
      "metadata": {
        "id": "w2EWb7obxUi5"
      },
      "source": [
        "Utiliza el método del codo para establecer un rango [k min , k max ] de posibles valores de k para realizar un agrupamiento. \n",
        " Justifica tu respuesta para el rango propuesto."
      ]
    },
    {
      "cell_type": "code",
      "metadata": {
        "colab": {
          "base_uri": "https://localhost:8080/",
          "height": 345
        },
        "id": "jHCXZR321KtI",
        "outputId": "f47c22e3-4295-4ab5-e236-2bba3f49ea7e"
      },
      "source": [
        "import scipy.cluster.hierarchy as sch \n",
        "import matplotlib.pyplot as plt\n",
        "Cluster = sch.linkage(clients, method='average', metric='euclidean')\n",
        "sch.dendrogram(Cluster)\n",
        "plt.show()"
      ],
      "execution_count": null,
      "outputs": [
        {
          "output_type": "display_data",
          "data": {
            "image/png": "[encoded data removed]",
            "text/plain": [
              "<Figure size 432x288 with 1 Axes>"
            ]
          },
          "metadata": {
            "tags": [],
            "needs_background": "light"
          }
        }
      ]
    },
    {
      "cell_type": "markdown",
      "metadata": {
        "id": "5JyqHF1ev6hA"
      },
      "source": [
        "Para realizar la elección de los clusters minimos (Kmin), me base en lo visual representado por el dendograma. \n",
        "En el que se puede observar cuatro grupos de colores. Si bien puede que no sea exacto, es una buena aproximación. \n",
        "Leyendo algunos blogs similares a: https://machinelearningparatodos.com/segmentacion-utilizando-k-means-en-python/\n",
        "https://www.loginradius.com/engineering/blog/Optimal-Clusters-KMeans/\n",
        "https://www.reddit.com/r/learnmachinelearning/comments/jaarou/optimal_clusters_for_kmeans_algorithm/\n",
        "obtienen una k de 4, pero es subjetivo. \n",
        "Para la elección de los clusters máximos (Kmax) decidí poner un tope no muy alto debido a que la inercia va decreciendo tal como se observa en la gráfica. "
      ]
    },
    {
      "cell_type": "code",
      "metadata": {
        "id": "dcWzgipMSSv4",
        "outputId": "ef6e7cb5-8f1a-4e5c-8c28-a72acb74ae9c"
      },
      "source": [
        "from sklearn.cluster import KMeans\n",
        "y_axis = []; x_axis = []\n",
        "minn = 1\n",
        "maxx = 10\n",
        "while minn <= maxx:\n",
        "    x_axis.append(minn)\n",
        "    result = KMeans(n_clusters=minn).fit(clients)\n",
        "    y_axis.append(result.inertia_)\n",
        "    minn += 1\n",
        "    \n",
        "plt.plot(x_axis, y_axis, \"o-\")\n",
        "plt.xlabel('Num Clusters')\n",
        "plt.ylabel('inertia')\n",
        "plt.title('KMeans elbow')\n",
        "plt.show()"
      ],
      "execution_count": null,
      "outputs": [
        {
          "output_type": "display_data",
          "data": {
            "image/png": "[encoded data removed]",
            "text/plain": [
              "<Figure size 576x396 with 1 Axes>"
            ]
          },
          "metadata": {
            "tags": []
          }
        }
      ]
    },
    {
      "cell_type": "markdown",
      "metadata": {
        "id": "FJBEjwk9SSv5"
      },
      "source": [
        "Utiliza el ı́ndice Silhouette para examinar tus datos con cada uno de los valores\n",
        "de k en el rango propuesto en el inciso anterior. Analiza\n",
        "los resultados y elige un valor de k, justificando tu decisión."
      ]
    },
    {
      "cell_type": "code",
      "metadata": {
        "id": "UUqjNgVASSv5",
        "outputId": "bab9d778-a2db-4ea4-bdbb-1cbf12b84bdd"
      },
      "source": [
        "from yellowbrick.cluster import SilhouetteVisualizer\n",
        "\n",
        "# Instantiate the clustering model and visualizer\n",
        "model = KMeans(4)\n",
        "visualizer = SilhouetteVisualizer(model, colors='yellowbrick')\n",
        "\n",
        "visualizer.fit(clients)\n",
        "visualizer.show()      "
      ],
      "execution_count": null,
      "outputs": [
        {
          "output_type": "stream",
          "text": [
            "/home/ladiv/anaconda3/lib/python3.7/site-packages/sklearn/utils/deprecation.py:144: FutureWarning: The sklearn.metrics.classification module is  deprecated in version 0.22 and will be removed in version 0.24. The corresponding classes / functions should instead be imported from sklearn.metrics. Anything that cannot be imported from sklearn.metrics is now part of the private API.\n",
            "  warnings.warn(message, FutureWarning)\n"
          ],
          "name": "stderr"
        },
        {
          "output_type": "display_data",
          "data": {
            "image/png": "[encoded data removed]",
            "text/plain": [
              "<Figure size 576x396 with 1 Axes>"
            ]
          },
          "metadata": {
            "tags": []
          }
        },
        {
          "output_type": "execute_result",
          "data": {
            "text/plain": [
              "<matplotlib.axes._subplots.AxesSubplot at 0x7fa1dc533d10>"
            ]
          },
          "metadata": {
            "tags": []
          },
          "execution_count": 14
        }
      ]
    },
    {
      "cell_type": "code",
      "metadata": {
        "id": "EPKUySV9SSv6",
        "outputId": "76131009-6ff9-441c-ab6b-48f29bae6a57"
      },
      "source": [
        "from yellowbrick.cluster import SilhouetteVisualizer\n",
        "\n",
        "# Instantiate the clustering model and visualizer\n",
        "model = KMeans(5)\n",
        "visualizer = SilhouetteVisualizer(model, colors='yellowbrick')\n",
        "\n",
        "visualizer.fit(clients)\n",
        "visualizer.show()      "
      ],
      "execution_count": null,
      "outputs": [
        {
          "output_type": "display_data",
          "data": {
            "image/png": "[encoded data removed]",
            "text/plain": [
              "<Figure size 576x396 with 1 Axes>"
            ]
          },
          "metadata": {
            "tags": []
          }
        },
        {
          "output_type": "execute_result",
          "data": {
            "text/plain": [
              "<matplotlib.axes._subplots.AxesSubplot at 0x7fa1dd49b550>"
            ]
          },
          "metadata": {
            "tags": []
          },
          "execution_count": 15
        }
      ]
    },
    {
      "cell_type": "code",
      "metadata": {
        "id": "yKBnwl9-SSv6",
        "outputId": "81580f79-c859-4522-c4e9-0dcc76e2ace8"
      },
      "source": [
        "from yellowbrick.cluster import SilhouetteVisualizer\n",
        "\n",
        "# Instantiate the clustering model and visualizer\n",
        "model = KMeans(6)\n",
        "visualizer = SilhouetteVisualizer(model, colors='yellowbrick')\n",
        "\n",
        "visualizer.fit(clients)\n",
        "visualizer.show()      "
      ],
      "execution_count": null,
      "outputs": [
        {
          "output_type": "display_data",
          "data": {
            "image/png": "[encoded data removed]",
            "text/plain": [
              "<Figure size 576x396 with 1 Axes>"
            ]
          },
          "metadata": {
            "tags": []
          }
        },
        {
          "output_type": "execute_result",
          "data": {
            "text/plain": [
              "<matplotlib.axes._subplots.AxesSubplot at 0x7fa1dc7c7f90>"
            ]
          },
          "metadata": {
            "tags": []
          },
          "execution_count": 16
        }
      ]
    },
    {
      "cell_type": "code",
      "metadata": {
        "id": "I44WjeLiSSv7",
        "outputId": "b1debeff-a332-479e-a6cc-89537d1b2593"
      },
      "source": [
        "from yellowbrick.cluster import SilhouetteVisualizer\n",
        "\n",
        "# Instantiate the clustering model and visualizer\n",
        "model = KMeans(7)\n",
        "visualizer = SilhouetteVisualizer(model, colors='yellowbrick')\n",
        "\n",
        "visualizer.fit(clients)\n",
        "visualizer.show()      "
      ],
      "execution_count": null,
      "outputs": [
        {
          "output_type": "display_data",
          "data": {
            "image/png": "[encoded data removed]",
            "text/plain": [
              "<Figure size 576x396 with 1 Axes>"
            ]
          },
          "metadata": {
            "tags": []
          }
        },
        {
          "output_type": "execute_result",
          "data": {
            "text/plain": [
              "<matplotlib.axes._subplots.AxesSubplot at 0x7fa1dc7c7a10>"
            ]
          },
          "metadata": {
            "tags": []
          },
          "execution_count": 17
        }
      ]
    },
    {
      "cell_type": "code",
      "metadata": {
        "id": "TMP8EeQhSSv8",
        "outputId": "5636f0f0-1234-4ec3-a219-5f1a56df0dc2"
      },
      "source": [
        "from yellowbrick.cluster import SilhouetteVisualizer\n",
        "\n",
        "# Instantiate the clustering model and visualizer\n",
        "model = KMeans(8)\n",
        "visualizer = SilhouetteVisualizer(model, colors='yellowbrick')\n",
        "\n",
        "visualizer.fit(clients)\n",
        "visualizer.show()      "
      ],
      "execution_count": null,
      "outputs": [
        {
          "output_type": "display_data",
          "data": {
            "image/png": "[encoded data removed]",
            "text/plain": [
              "<Figure size 576x396 with 1 Axes>"
            ]
          },
          "metadata": {
            "tags": []
          }
        },
        {
          "output_type": "execute_result",
          "data": {
            "text/plain": [
              "<matplotlib.axes._subplots.AxesSubplot at 0x7fa1def11850>"
            ]
          },
          "metadata": {
            "tags": []
          },
          "execution_count": 18
        }
      ]
    },
    {
      "cell_type": "code",
      "metadata": {
        "id": "irOKIu-OSSv9",
        "outputId": "64cb20fb-767e-453f-9d92-d1e1e408ef41"
      },
      "source": [
        "from yellowbrick.cluster import SilhouetteVisualizer\n",
        "\n",
        "# Instantiate the clustering model and visualizer\n",
        "model = KMeans(9)\n",
        "visualizer = SilhouetteVisualizer(model, colors='yellowbrick')\n",
        "\n",
        "visualizer.fit(clients)\n",
        "visualizer.show()      "
      ],
      "execution_count": null,
      "outputs": [
        {
          "output_type": "display_data",
          "data": {
            "image/png": "[encoded data removed]",
            "text/plain": [
              "<Figure size 576x396 with 1 Axes>"
            ]
          },
          "metadata": {
            "tags": []
          }
        },
        {
          "output_type": "execute_result",
          "data": {
            "text/plain": [
              "<matplotlib.axes._subplots.AxesSubplot at 0x7fa1df0403d0>"
            ]
          },
          "metadata": {
            "tags": []
          },
          "execution_count": 19
        }
      ]
    },
    {
      "cell_type": "code",
      "metadata": {
        "id": "_EKGWw_CSSv9",
        "outputId": "92eeb196-2172-47f8-952a-b96a00f9dce5"
      },
      "source": [
        "from yellowbrick.cluster import SilhouetteVisualizer\n",
        "\n",
        "# Instantiate the clustering model and visualizer\n",
        "model = KMeans(10)\n",
        "visualizer = SilhouetteVisualizer(model, colors='yellowbrick')\n",
        "\n",
        "visualizer.fit(clients)\n",
        "visualizer.show()      "
      ],
      "execution_count": null,
      "outputs": [
        {
          "output_type": "display_data",
          "data": {
            "image/png": "[encoded data removed]",
            "text/plain": [
              "<Figure size 576x396 with 1 Axes>"
            ]
          },
          "metadata": {
            "tags": []
          }
        },
        {
          "output_type": "execute_result",
          "data": {
            "text/plain": [
              "<matplotlib.axes._subplots.AxesSubplot at 0x7fa1def98c90>"
            ]
          },
          "metadata": {
            "tags": []
          },
          "execution_count": 20
        }
      ]
    },
    {
      "cell_type": "markdown",
      "metadata": {
        "id": "cksNm8bySSv-"
      },
      "source": [
        "Tomamos K=4 dado que máximiza considerablemente la distincióon entre grupos, observemos en las gráficas que a partir de k=5 \n",
        "empezamos a tener valores negativos, es decir, el algoritmo aunque \"distinguio\" el grupo no esta del todo seguro respecto a la decisión. Hemos de tomar k=4 entonces"
      ]
    },
    {
      "cell_type": "markdown",
      "metadata": {
        "id": "xxcxqI8eSSv-"
      },
      "source": [
        "* Con el valor de k seleccionado, realiza el agrupamiento de los datos usando\n",
        "  KMeans. \n",
        "\n",
        "* Utiliza los centroides para caracterizar cada grupo en términos\n",
        "  de su interpretación en el contexto de los datos.\n",
        "  \n",
        "(por ejemplo, ¿el grupo 1 serı́a\n",
        "de gente conservadora? ¿de gente arriesgada? ¿cómo interpretamos cada grupo\n",
        "de acuerdo a su centroide y al significado de cada número?)"
      ]
    },
    {
      "cell_type": "code",
      "metadata": {
        "id": "Gxu9dLvjSSv-",
        "outputId": "8622486e-78d5-4200-edaf-5e3308af483e"
      },
      "source": [
        "result = KMeans(n_clusters=4,init='random',max_iter=200).fit(clients)\n",
        "result"
      ],
      "execution_count": null,
      "outputs": [
        {
          "output_type": "execute_result",
          "data": {
            "text/plain": [
              "KMeans(algorithm='auto', copy_x=True, init='random', max_iter=200, n_clusters=4,\n",
              "       n_init=10, n_jobs=None, precompute_distances='auto', random_state=None,\n",
              "       tol=0.0001, verbose=0)"
            ]
          },
          "metadata": {
            "tags": []
          },
          "execution_count": 21
        }
      ]
    },
    {
      "cell_type": "code",
      "metadata": {
        "id": "ByPMiSL8SSv-",
        "outputId": "f45ebabb-9ee6-4320-c7c7-3bedaa4d6e16"
      },
      "source": [
        "result.labels_"
      ],
      "execution_count": null,
      "outputs": [
        {
          "output_type": "execute_result",
          "data": {
            "text/plain": [
              "array([2, 0, 3, 0, 2, 2, 2, 1, 3, 2, 0, 1, 3, 2, 3, 2, 3, 2, 1, 0, 0, 2,\n",
              "       0, 0, 1, 0, 3, 3, 3, 0, 2, 3, 3, 0, 0, 0, 0, 2, 3, 2, 3, 0, 3, 0,\n",
              "       0, 3, 3, 0, 3, 3, 1, 0, 0, 1, 1, 3, 0, 2, 0, 3, 3, 2, 3, 1, 0, 2,\n",
              "       2, 3, 2, 2, 3, 1, 0, 2, 3, 3, 0, 3, 3, 2, 0, 2, 2, 0, 2, 3, 2, 1,\n",
              "       0, 3, 1, 0, 3, 0, 2, 3, 3, 2, 1, 0, 0, 0, 2, 1, 2, 3, 0, 2, 2, 0,\n",
              "       1, 3, 2, 2, 0, 3, 2, 2, 2, 2, 3, 2, 0, 1, 0, 3, 2, 3, 0, 0, 1, 2,\n",
              "       1, 3, 2, 0, 3, 0, 3, 3, 2, 3, 3, 1, 0, 1, 2, 2, 2, 2, 3, 2, 2, 2,\n",
              "       1, 2, 2, 3, 3, 3, 0, 2, 2, 2, 2, 2, 0, 2, 1, 2, 1, 2, 2, 0, 2, 3,\n",
              "       3, 0, 0, 1, 3, 0, 1, 0, 2, 0, 0, 3, 3, 0, 0, 2, 2, 0, 0, 1, 3, 3,\n",
              "       3, 0, 3, 0, 1, 3, 0, 3, 3, 1, 2, 3, 2, 1, 3, 3, 0, 2, 3, 3, 2, 0,\n",
              "       2, 0, 2, 2, 2, 2, 1, 3, 3, 3, 3, 1, 3, 0, 3, 3, 2, 2, 1, 3, 2, 0,\n",
              "       3, 2, 2, 0, 1, 0, 2], dtype=int32)"
            ]
          },
          "metadata": {
            "tags": []
          },
          "execution_count": 22
        }
      ]
    },
    {
      "cell_type": "code",
      "metadata": {
        "id": "TZuJ-wBdSSv_",
        "outputId": "7c22c197-59b3-4fd6-a5ff-db743b7dd3a7"
      },
      "source": [
        "cluster_result = list(result.labels_)\n",
        "#len(aux) >> 249 que es igual al número de registros que tengo \n",
        "# Una vez obtenidos los clusters, añadimos una nueva columna a nuestro dataframe para identificar a que cluster\n",
        "# pertenece cada registro\n",
        "clients = clients.assign(Cluster_group = cluster_result)\n",
        "clients.head()"
      ],
      "execution_count": null,
      "outputs": [
        {
          "output_type": "execute_result",
          "data": {
            "text/html": [
              "<div>\n",
              "<style scoped>\n",
              "    .dataframe tbody tr th:only-of-type {\n",
              "        vertical-align: middle;\n",
              "    }\n",
              "\n",
              "    .dataframe tbody tr th {\n",
              "        vertical-align: top;\n",
              "    }\n",
              "\n",
              "    .dataframe thead th {\n",
              "        text-align: right;\n",
              "    }\n",
              "</style>\n",
              "<table border=\"1\" class=\"dataframe\">\n",
              "  <thead>\n",
              "    <tr style=\"text-align: right;\">\n",
              "      <th></th>\n",
              "      <th>pregunta_1</th>\n",
              "      <th>pregunta_2</th>\n",
              "      <th>pregunta_3</th>\n",
              "      <th>pregunta_4</th>\n",
              "      <th>pregunta_5</th>\n",
              "      <th>pregunta_6</th>\n",
              "      <th>pregunta_7</th>\n",
              "      <th>pregunta_8</th>\n",
              "      <th>pregunta_9</th>\n",
              "      <th>pregunta_10</th>\n",
              "      <th>...</th>\n",
              "      <th>pregunta_54</th>\n",
              "      <th>pregunta_55</th>\n",
              "      <th>pregunta_56</th>\n",
              "      <th>pregunta_57</th>\n",
              "      <th>pregunta_58</th>\n",
              "      <th>pregunta_59</th>\n",
              "      <th>pregunta_60</th>\n",
              "      <th>pregunta_61</th>\n",
              "      <th>pregunta_62</th>\n",
              "      <th>Cluster_group</th>\n",
              "    </tr>\n",
              "  </thead>\n",
              "  <tbody>\n",
              "    <tr>\n",
              "      <th>cliente_1</th>\n",
              "      <td>7</td>\n",
              "      <td>7</td>\n",
              "      <td>7</td>\n",
              "      <td>5</td>\n",
              "      <td>4</td>\n",
              "      <td>4</td>\n",
              "      <td>5</td>\n",
              "      <td>4</td>\n",
              "      <td>5</td>\n",
              "      <td>5</td>\n",
              "      <td>...</td>\n",
              "      <td>1</td>\n",
              "      <td>1</td>\n",
              "      <td>1</td>\n",
              "      <td>5</td>\n",
              "      <td>4</td>\n",
              "      <td>3</td>\n",
              "      <td>5</td>\n",
              "      <td>4</td>\n",
              "      <td>5</td>\n",
              "      <td>2</td>\n",
              "    </tr>\n",
              "    <tr>\n",
              "      <th>cliente_2</th>\n",
              "      <td>5</td>\n",
              "      <td>4</td>\n",
              "      <td>6</td>\n",
              "      <td>5</td>\n",
              "      <td>7</td>\n",
              "      <td>5</td>\n",
              "      <td>3</td>\n",
              "      <td>5</td>\n",
              "      <td>4</td>\n",
              "      <td>5</td>\n",
              "      <td>...</td>\n",
              "      <td>5</td>\n",
              "      <td>6</td>\n",
              "      <td>3</td>\n",
              "      <td>4</td>\n",
              "      <td>4</td>\n",
              "      <td>5</td>\n",
              "      <td>3</td>\n",
              "      <td>4</td>\n",
              "      <td>4</td>\n",
              "      <td>0</td>\n",
              "    </tr>\n",
              "    <tr>\n",
              "      <th>cliente_3</th>\n",
              "      <td>4</td>\n",
              "      <td>2</td>\n",
              "      <td>5</td>\n",
              "      <td>4</td>\n",
              "      <td>2</td>\n",
              "      <td>4</td>\n",
              "      <td>5</td>\n",
              "      <td>4</td>\n",
              "      <td>3</td>\n",
              "      <td>4</td>\n",
              "      <td>...</td>\n",
              "      <td>5</td>\n",
              "      <td>4</td>\n",
              "      <td>4</td>\n",
              "      <td>4</td>\n",
              "      <td>2</td>\n",
              "      <td>5</td>\n",
              "      <td>5</td>\n",
              "      <td>5</td>\n",
              "      <td>3</td>\n",
              "      <td>3</td>\n",
              "    </tr>\n",
              "    <tr>\n",
              "      <th>cliente_4</th>\n",
              "      <td>5</td>\n",
              "      <td>5</td>\n",
              "      <td>7</td>\n",
              "      <td>6</td>\n",
              "      <td>7</td>\n",
              "      <td>3</td>\n",
              "      <td>4</td>\n",
              "      <td>5</td>\n",
              "      <td>4</td>\n",
              "      <td>2</td>\n",
              "      <td>...</td>\n",
              "      <td>4</td>\n",
              "      <td>5</td>\n",
              "      <td>5</td>\n",
              "      <td>4</td>\n",
              "      <td>5</td>\n",
              "      <td>4</td>\n",
              "      <td>3</td>\n",
              "      <td>4</td>\n",
              "      <td>5</td>\n",
              "      <td>0</td>\n",
              "    </tr>\n",
              "    <tr>\n",
              "      <th>cliente_5</th>\n",
              "      <td>6</td>\n",
              "      <td>6</td>\n",
              "      <td>4</td>\n",
              "      <td>4</td>\n",
              "      <td>5</td>\n",
              "      <td>3</td>\n",
              "      <td>5</td>\n",
              "      <td>2</td>\n",
              "      <td>5</td>\n",
              "      <td>3</td>\n",
              "      <td>...</td>\n",
              "      <td>2</td>\n",
              "      <td>1</td>\n",
              "      <td>2</td>\n",
              "      <td>5</td>\n",
              "      <td>4</td>\n",
              "      <td>4</td>\n",
              "      <td>4</td>\n",
              "      <td>4</td>\n",
              "      <td>4</td>\n",
              "      <td>2</td>\n",
              "    </tr>\n",
              "  </tbody>\n",
              "</table>\n",
              "<p>5 rows × 63 columns</p>\n",
              "</div>"
            ],
            "text/plain": [
              "           pregunta_1  pregunta_2  pregunta_3  pregunta_4  pregunta_5  \\\n",
              "cliente_1           7           7           7           5           4   \n",
              "cliente_2           5           4           6           5           7   \n",
              "cliente_3           4           2           5           4           2   \n",
              "cliente_4           5           5           7           6           7   \n",
              "cliente_5           6           6           4           4           5   \n",
              "\n",
              "           pregunta_6  pregunta_7  pregunta_8  pregunta_9  pregunta_10  ...  \\\n",
              "cliente_1           4           5           4           5            5  ...   \n",
              "cliente_2           5           3           5           4            5  ...   \n",
              "cliente_3           4           5           4           3            4  ...   \n",
              "cliente_4           3           4           5           4            2  ...   \n",
              "cliente_5           3           5           2           5            3  ...   \n",
              "\n",
              "           pregunta_54  pregunta_55  pregunta_56  pregunta_57  pregunta_58  \\\n",
              "cliente_1            1            1            1            5            4   \n",
              "cliente_2            5            6            3            4            4   \n",
              "cliente_3            5            4            4            4            2   \n",
              "cliente_4            4            5            5            4            5   \n",
              "cliente_5            2            1            2            5            4   \n",
              "\n",
              "           pregunta_59  pregunta_60  pregunta_61  pregunta_62  Cluster_group  \n",
              "cliente_1            3            5            4            5              2  \n",
              "cliente_2            5            3            4            4              0  \n",
              "cliente_3            5            5            5            3              3  \n",
              "cliente_4            4            3            4            5              0  \n",
              "cliente_5            4            4            4            4              2  \n",
              "\n",
              "[5 rows x 63 columns]"
            ]
          },
          "metadata": {
            "tags": []
          },
          "execution_count": 23
        }
      ]
    },
    {
      "cell_type": "code",
      "metadata": {
        "id": "TVrHeJAQSSwA",
        "outputId": "fe0a7031-9ff0-4ca3-8fc5-ddb84b8fbe1d"
      },
      "source": [
        "result.cluster_centers_.shape\n",
        "#(k, n)\n",
        "#k = Grupos\n",
        "#n = columnas del dataset\n",
        "#result.cluster_centers_"
      ],
      "execution_count": null,
      "outputs": [
        {
          "output_type": "execute_result",
          "data": {
            "text/plain": [
              "(4, 62)"
            ]
          },
          "metadata": {
            "tags": []
          },
          "execution_count": 24
        }
      ]
    },
    {
      "cell_type": "code",
      "metadata": {
        "id": "3_eg_ln8SSwA",
        "outputId": "24518a6e-8d36-456b-e3ca-499883e6a4c4"
      },
      "source": [
        "import numpy as np\n",
        "clusters = result.cluster_centers_\n",
        "# Redondeamos los valores para un mejor manejo y entendimiento de los números \n",
        "for x in range(len(clusters)):\n",
        "    clusters[x] = np.around(clusters[x])\n",
        "\n",
        "clusters"
      ],
      "execution_count": null,
      "outputs": [
        {
          "output_type": "execute_result",
          "data": {
            "text/plain": [
              "array([[4., 4., 6., 6., 6., 4., 4., 4., 4., 4., 4., 4., 4., 4., 4., 4.,\n",
              "        2., 4., 4., 4., 4., 4., 4., 4., 4., 4., 4., 4., 4., 4., 6., 6.,\n",
              "        6., 6., 6., 6., 6., 6., 2., 2., 2., 2., 2., 2., 4., 4., 4., 4.,\n",
              "        4., 4., 4., 4., 4., 4., 4., 4., 4., 4., 4., 4., 4., 4.],\n",
              "       [6., 4., 4., 2., 4., 4., 4., 4., 4., 4., 4., 4., 4., 6., 7., 4.,\n",
              "        6., 4., 4., 4., 6., 7., 4., 4., 2., 1., 4., 2., 4., 4., 7., 4.,\n",
              "        4., 4., 4., 4., 7., 4., 4., 4., 1., 1., 4., 4., 4., 4., 4., 4.,\n",
              "        4., 4., 4., 6., 6., 4., 4., 4., 6., 7., 6., 1., 1., 2.],\n",
              "       [7., 7., 4., 4., 4., 4., 4., 4., 4., 4., 4., 4., 4., 2., 4., 4.,\n",
              "        4., 4., 4., 2., 4., 4., 6., 1., 4., 4., 4., 4., 4., 4., 2., 4.,\n",
              "        4., 4., 4., 4., 4., 4., 4., 4., 7., 4., 4., 7., 6., 7., 7., 7.,\n",
              "        6., 6., 2., 1., 2., 1., 1., 1., 4., 4., 4., 4., 4., 4.],\n",
              "       [4., 2., 4., 4., 2., 4., 4., 4., 4., 4., 4., 4., 4., 6., 6., 6.,\n",
              "        6., 6., 6., 6., 6., 6., 2., 2., 2., 2., 2., 2., 2., 2., 4., 4.,\n",
              "        4., 4., 4., 4., 4., 4., 4., 4., 4., 4., 4., 4., 4., 4., 4., 4.,\n",
              "        4., 4., 4., 4., 4., 4., 4., 4., 4., 4., 4., 4., 4., 4.]])"
            ]
          },
          "metadata": {
            "tags": []
          },
          "execution_count": 25
        }
      ]
    },
    {
      "cell_type": "code",
      "metadata": {
        "id": "eb0YvOMvSSwB",
        "outputId": "b1707372-79bf-4da4-9b69-c1997040c6f6"
      },
      "source": [
        "#Grupo 1\n",
        "clusters[0].mean()"
      ],
      "execution_count": null,
      "outputs": [
        {
          "output_type": "execute_result",
          "data": {
            "text/plain": [
              "4.129032258064516"
            ]
          },
          "metadata": {
            "tags": []
          },
          "execution_count": 26
        }
      ]
    },
    {
      "cell_type": "code",
      "metadata": {
        "id": "jY7d43hkSSwB",
        "outputId": "6e200d80-87fc-44d7-b3bb-802cfdc987e7"
      },
      "source": [
        "#Grupo 2\n",
        "clusters[1].mean()"
      ],
      "execution_count": null,
      "outputs": [
        {
          "output_type": "execute_result",
          "data": {
            "text/plain": [
              "4.129032258064516"
            ]
          },
          "metadata": {
            "tags": []
          },
          "execution_count": 27
        }
      ]
    },
    {
      "cell_type": "code",
      "metadata": {
        "id": "dyd60aQqSSwC",
        "outputId": "7ac3c5ef-7cce-496e-c4cb-50ea3845091e"
      },
      "source": [
        "#Grupo 3\n",
        "clusters[2].mean()"
      ],
      "execution_count": null,
      "outputs": [
        {
          "output_type": "execute_result",
          "data": {
            "text/plain": [
              "4.064516129032258"
            ]
          },
          "metadata": {
            "tags": []
          },
          "execution_count": 28
        }
      ]
    },
    {
      "cell_type": "code",
      "metadata": {
        "id": "zQay-_wXSSwD",
        "outputId": "0c220ef3-5826-454f-ca12-4e65f4767d2b"
      },
      "source": [
        "#Grupo 4\n",
        "clusters[3].mean()"
      ],
      "execution_count": null,
      "outputs": [
        {
          "output_type": "execute_result",
          "data": {
            "text/plain": [
              "3.967741935483871"
            ]
          },
          "metadata": {
            "tags": []
          },
          "execution_count": 29
        }
      ]
    },
    {
      "cell_type": "code",
      "metadata": {
        "id": "Qi8lrQWXSSwE",
        "outputId": "ce66393e-fe2a-488a-f15a-dd9ed3bc3af7"
      },
      "source": [
        "import matplotlib.pyplot as plt\n",
        "import seaborn as sns\n",
        "\n",
        "plt.figure(figsize = (20, 6))\n",
        "sns.heatmap(clusters, linewidths = 0.2,\n",
        "            cmap = sns.diverging_palette(220, 10, as_cmap=True),\n",
        "            vmin = 1, vmax = 7, annot = True)\n",
        "\n",
        "plt.xlabel('question number')\n",
        "plt.ylabel('cluster number')\n",
        "plt.title('headmap clients')\n",
        "plt.show()"
      ],
      "execution_count": null,
      "outputs": [
        {
          "output_type": "display_data",
          "data": {
            "image/png": "[encoded data removed]",
            "text/plain": [
              "<Figure size 1440x432 with 2 Axes>"
            ]
          },
          "metadata": {
            "tags": []
          }
        }
      ]
    },
    {
      "cell_type": "markdown",
      "metadata": {
        "id": "ACDDsAnSSSwF"
      },
      "source": [
        "A partir de los resultados obtenidos en el mapa de calor nos podemos dar cuenta que tanto el grupo 3 y el grupo 0 esta compuesto por personas con poca elección. Es decir recordemos que en las preguntas el 4 significa \"ni en acuerdo ni en desacuerdo\". \n",
        "Por lo tanto con un buen microtargeting  podemos atraerlos a una lado conservador o a un lado arriesgado. Por otro lado \n",
        "en el grupo 1 y 2 tenemos grupos que si bien también estan en su mayoria en 4 están un poco más definidos por lo que es necesario ver un poco el cuestionario para ver en que preguntas están muy decididos.\n",
        "En el grupo 1: \n",
        "    Quiero un auto que este a la moda\n",
        "    No tengo tiempo para preocuparme por el mantenimiento\n",
        "    Me encanta manejar\n",
        "    El carro que compre debe ser capaz de aguantar largos viajes\n",
        "    Quiero un vehiculo que sea ecoamigable\n",
        "    Uno no deberia gastar más de lo que tiene\n",
        "    Si el carro es aerodinamico seguro ahorra gasolina\n",
        "    Tener un carro masculino es importante para mi \n",
        "    Me gustaría creer que el carro que conduzco algun día va a ser un carro de cutlo \n",
        "    Quiero un carro que tenga lo último en equipamiento \n",
        "    Quiero un carro que refleje caracter\n",
        "En el grupo 2:\n",
        "    Los carros pequeños son mucho más seguros hoy en día\n",
        "    Prefiero los carros pequeños \n",
        "    Prefiero comprarle un carro a un representate de la agencia que a un vendedor\n",
        "    de autos\n",
        "    Si se trata de elegir un carro, escucho más a mi corazón que a mi cabeza\n",
        "    Comprar coches ensamblados en México deberı́a ser prioridad, pues favorecen la\n",
        "    economı́a\n",
        "    Un carro es una extensión de nuestra personalidad\n",
        "    \n",
        "A partir de lo anterior podemos observar la diferencia entre grupos, el grupo 1 prefiere tendencias, algo que llame la atención y que sea lo último en tecnología mientras que el grupo dos prefieren los autos pequeños y se dejan guiar por su corazón a la hora de comprarlo. Considerando los autos pequeños más seguros. Podemos entonces caracterizar el **grupo 1 como más abierto** y al **grupo 2 como más cerrado.**\n",
        "    "
      ]
    },
    {
      "cell_type": "markdown",
      "metadata": {
        "id": "YrxM7u7GSSwG"
      },
      "source": [
        "* Finalmente, compara los grupos que identificaste en el inciso anterior (la lista\n",
        "de etiquetas) contra los grupos que habı́as identificado en el Laboratorio 1 (son\n",
        "los mismos usuarios que contestaron la encuesta). Para esto, utiliza tu imple-\n",
        "mentación de Normalized Mutual Information. \n",
        "\n",
        "¿Los agrupamientos se parecen\n",
        "o nada qué ver? ¿Cuál serı́a tu explicación tentativa al respecto?"
      ]
    },
    {
      "cell_type": "code",
      "metadata": {
        "id": "43UaS7MvSSwG",
        "outputId": "113032aa-f208-4c76-8e4d-aae425076673"
      },
      "source": [
        "Grupos_pasados = [1, 1, 3, 2, 0, 0, 4, 1, 0, 3, 4, 3, 0, 3, 2, 1, 1, 2, 0, 2, 2, 2,\n",
        "        1, 3, 3, 4, 3, 0, 2, 3, 4, 4, 1, 1, 1, 4, 1, 0, 0, 4, 0, 0, 1, 4,\n",
        "        3, 1, 3, 2, 0, 0, 3, 3, 0, 2, 1, 0, 3, 3, 0, 0, 4, 4, 4, 2, 3, 3,\n",
        "        4, 0, 1, 1, 3, 4, 3, 0, 0, 4, 2, 0, 1, 3, 1, 2, 0, 3, 2, 0, 0, 1,\n",
        "        1, 0, 1, 2, 1, 2, 0, 0, 3, 3, 2, 3, 0, 3, 3, 0, 1, 4, 3, 1, 1, 3,\n",
        "        4, 4, 4, 3, 1, 1, 2, 3, 0, 3, 4, 2, 0, 1, 1, 1, 4, 0, 3, 0, 2, 4,\n",
        "        1, 2, 0, 1, 1, 3, 3, 2, 1, 4, 2, 3, 3, 2, 3, 4, 1, 4, 1, 2, 0, 1,\n",
        "        3, 0, 4, 3, 3, 2, 3, 1, 0, 1, 3, 3, 3, 0, 4, 1, 2, 1, 2, 1, 0, 0,\n",
        "        0, 3, 0, 3, 1, 2, 0, 2, 2, 1, 1, 0, 4, 3, 1, 1, 2, 0, 3, 1, 0, 3,\n",
        "        0, 4, 4, 0, 0, 4, 0, 3, 3, 3, 2, 1, 1, 3, 2, 4, 1, 2, 2, 0, 4, 2,\n",
        "        2, 2, 0, 2, 4, 4, 0, 2, 0, 1, 3, 0, 4, 1, 3, 1, 3, 1, 0, 1, 3, 1,\n",
        "        1, 4, 2, 3, 0, 0, 3]\n",
        "Grupos_actuales = [2, 0, 3, 0, 2, 2, 2, 1, 3, 2, 0, 1, 3, 2, 3, 2, 3, 2, 1, 0, 0, 2,\n",
        "       0, 0, 1, 0, 3, 3, 3, 0, 2, 3, 3, 0, 0, 0, 0, 2, 3, 2, 3, 0, 3, 0,\n",
        "       0, 3, 3, 0, 3, 3, 1, 0, 0, 1, 1, 3, 0, 2, 0, 3, 3, 2, 3, 1, 0, 2,\n",
        "       2, 3, 2, 2, 3, 1, 0, 2, 3, 3, 0, 3, 3, 2, 0, 2, 2, 0, 2, 3, 2, 1,\n",
        "       0, 3, 1, 0, 3, 0, 2, 3, 3, 2, 1, 0, 0, 0, 2, 1, 2, 3, 0, 2, 2, 0,\n",
        "       1, 3, 2, 2, 0, 3, 2, 2, 2, 2, 3, 2, 0, 1, 0, 3, 2, 3, 0, 0, 1, 2,\n",
        "       1, 3, 2, 0, 3, 0, 3, 3, 2, 3, 3, 1, 0, 1, 2, 2, 2, 2, 3, 2, 2, 2,\n",
        "       1, 2, 2, 3, 3, 3, 0, 2, 2, 2, 2, 2, 0, 2, 1, 2, 1, 2, 2, 0, 2, 3,\n",
        "       3, 0, 0, 1, 3, 0, 1, 0, 2, 0, 0, 3, 3, 0, 0, 2, 2, 0, 0, 1, 3, 3,\n",
        "       3, 0, 3, 0, 1, 3, 0, 3, 3, 1, 2, 3, 2, 1, 3, 3, 0, 2, 3, 3, 2, 0,\n",
        "       2, 0, 2, 2, 2, 2, 1, 3, 3, 3, 3, 1, 3, 0, 3, 3, 2, 2, 1, 3, 2, 0,\n",
        "       3, 2, 2, 0, 1, 0, 2]\n",
        "\n",
        "print(\"MI: {0}\".format(MI(Grupos_pasados, Grupos_actuales)))"
      ],
      "execution_count": null,
      "outputs": [
        {
          "output_type": "stream",
          "text": [
            "MI: 0.026800403601335492\n"
          ],
          "name": "stdout"
        }
      ]
    },
    {
      "cell_type": "markdown",
      "metadata": {
        "id": "VKuG83g5SSwJ"
      },
      "source": [
        "Los agrupamientos no se parecen mucho, la razón de esto viene dado el cambio de razonamiento del trabajo actual frente al anterior. \n",
        "En el anterior para elegir el número de grupos me base únicamente en el dendograma pero en este caso me base tanto en el dendograma como en el método del codo y el indice de Silhouette. Por lo que la elección de grupos fue más certera. Mientras que en el trabajo anterior obtuvimos cinco grupos, \n",
        "en el actual tuvimos cuatro, de ahí que no haya  mucha similitud entre arreglos. "
      ]
    },
    {
      "cell_type": "code",
      "metadata": {
        "id": "xC4pe0-6SSwJ",
        "outputId": "9ac5f89e-d4e2-43ae-92a3-59e729776c4e"
      },
      "source": [
        "print(\"RI: {0}\".format(rand_index(Grupos_pasados, Grupos_actuales)))"
      ],
      "execution_count": null,
      "outputs": [
        {
          "output_type": "stream",
          "text": [
            "TP: 1697\n",
            "TN: 17998\n",
            "RI: 63.78740769529732\n"
          ],
          "name": "stdout"
        }
      ]
    },
    {
      "cell_type": "code",
      "metadata": {
        "id": "M_WEkuILSSwJ",
        "outputId": "04c17c44-966e-4b5f-fd0a-01eb76733032"
      },
      "source": [
        "print(\"Purity: {0}\".format(purity(Grupos_pasados, Grupos_actuales)))"
      ],
      "execution_count": null,
      "outputs": [
        {
          "output_type": "stream",
          "text": [
            "Purity: 27.710843373493972\n"
          ],
          "name": "stdout"
        }
      ]
    },
    {
      "cell_type": "code",
      "metadata": {
        "id": "9tJQG99ISSwK"
      },
      "source": [
        ""
      ],
      "execution_count": null,
      "outputs": []
    }
  ]
}